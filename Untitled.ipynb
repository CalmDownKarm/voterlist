{
 "cells": [
  {
   "cell_type": "code",
   "execution_count": 1,
   "metadata": {},
   "outputs": [],
   "source": [
    "import re\n",
    "import pandas as pd"
   ]
  },
  {
   "cell_type": "code",
   "execution_count": 2,
   "metadata": {},
   "outputs": [
    {
     "ename": "FileNotFoundError",
     "evalue": "[Errno 2] No such file or directory: '/home/karmanya/table-extract/output/tesseract/page_3.html'",
     "output_type": "error",
     "traceback": [
      "\u001b[0;31m---------------------------------------------------------------------------\u001b[0m",
      "\u001b[0;31mFileNotFoundError\u001b[0m                         Traceback (most recent call last)",
      "\u001b[0;32m<ipython-input-2-17a4edc71cf0>\u001b[0m in \u001b[0;36m<module>\u001b[0;34m\u001b[0m\n\u001b[0;32m----> 1\u001b[0;31m \u001b[0;32mwith\u001b[0m \u001b[0mopen\u001b[0m\u001b[0;34m(\u001b[0m\u001b[0;34m'/home/karmanya/table-extract/output/tesseract/page_3.html'\u001b[0m\u001b[0;34m)\u001b[0m \u001b[0;32mas\u001b[0m \u001b[0mf\u001b[0m\u001b[0;34m:\u001b[0m\u001b[0;34m\u001b[0m\u001b[0;34m\u001b[0m\u001b[0m\n\u001b[0m\u001b[1;32m      2\u001b[0m     \u001b[0msheets\u001b[0m \u001b[0;34m=\u001b[0m \u001b[0mf\u001b[0m\u001b[0;34m.\u001b[0m\u001b[0mread\u001b[0m\u001b[0;34m(\u001b[0m\u001b[0;34m)\u001b[0m\u001b[0;34m\u001b[0m\u001b[0;34m\u001b[0m\u001b[0m\n",
      "\u001b[0;31mFileNotFoundError\u001b[0m: [Errno 2] No such file or directory: '/home/karmanya/table-extract/output/tesseract/page_3.html'"
     ]
    }
   ],
   "source": [
    "with open('/home/karmanya/table-extract/output/tesseract/page_3.html') as f:\n",
    "    sheets = f.read()"
   ]
  },
  {
   "cell_type": "code",
   "execution_count": 36,
   "metadata": {},
   "outputs": [
    {
     "data": {
      "text/plain": [
       "'Assembly Constituency No and Name: 15-SHAKUR BAST!\\n\\nsection No and Name : 1-SHIVA ENCLAVEA-4, PASCHIM VIHAR\\n\\nPart No.-: 1\\n\\n1 ACBO0168161 2 ACB1414489 3 ACB1/03387 Name: SAJAG RACHHORA Name: Ankush\\nGoyal Name: YASH RAVI Father\\'s Name: BALWANT SINGH Mother\\'s Name: Sonu Gupta\\nFather\\'s Name: DEVANAND RACHHORA Photo is House Number: 4, Second Floor Photo\\nis House Number: 5/9 Photo is House Number: 3 Available Age: 29 Sex: MALE\\nAvailable Age: 26 Sex: MALE Available Age: 34 Sex: MALE | 4 | ACB1474699 | 9 |\\nACB1496776 | 6 | ACB1496/784 Name: MAYANK GOEL Name: NARENDRAPAL SINGH Name:\\nKRITIKA WADHWA Father\\'s Name: ARUN GOEL MATHARU Father\\'s Name: RAVINDER KUMAR\\nHouse Number: 8 Photo is Father\\'s Name: INDERPAL SINGH Phato is WADHWA Photo\\nis Age: 26 Sex: MALE Available MATHARU Available House Number: 12-CG Available\\nHouse Number: 11-28 Age: 28 Sex: FEMALE Age: 38 Sex: MALE f ACB1/12652 8\\nACB1634/798 J ACB1501907 Name: DEEPAK SAKHUJA Name: SANDEEP MITTAL Name: ANKIT\\nDUGGAL Father\\'s Name: KAPIL SAKHUJA Father\\'s Name: SANJAY MITTAL Father\\'s\\nName: RAVINDER KUMAR House Number: 14-CF Photo is House Number: 15 Photo is\\nDUGGAL Photo is Age: 23 Sex: MALE Available Age: 24 Sex: MALE Available House\\nNumber: 18-BF Available Age: 29 Sex: MALE 10 ACB1/41560 \"1 ACB1/42120 12\\nACB184/7995 Name: NITIKANARANG Name: SHUBHAM BAJAJ Name: EKANSH BHARDWAJ\\nFather\\'s Name: PURSHOTAM LAL Father\\'s Name: LILADHAR BAJAJ Father\\'s Name:\\nVIKAS SHARMA House Number: 20 Photo is House Number: 2/SF Photo is House\\nNumber: 64-6 Photo is Age: 24 Sex: FEMALE Available Age: 21 Sex: MALE\\nAvailable Age: 21 Sex: MALE Available 13] TVNO0093?11 14] ACB1845890 15]\\nACB1809995 Name: SUNIL KUMAR Name: MOHAMMAD Sharif Name: SHRIBHAGWAN GOEL\\nFather\\'s Name : DHARAM PAL Father\\'s Name : MOHAMMAD KALLU Father\\'s Name: HARI\\nKISHAN GOEL House Number: 7/7 Photo is House Number: 122/15 Railway colony\\nPhato is House Number: 162-TF Photo is Age: 38 Sex: MALE Available Age: 21\\nSex: MALE Available Age: 49 Sex: MALE Available 16 ACB188/7850 | 7 ACB1964954\\n18 ACB1964897 Name: TARUN KUMAR Name: RAJNI Name: SANJEEV KUMAR Father\\'s Name\\n: LEKH RAJ Husband\\'s Name: SANJEEV KUMAR Father\\'s Name: KHYALI RAM RAI House\\nNumber: 7/70, 3RD FLOOR Photo is House Number: 3148 Photo is House Number:\\n3143AK Photo is Age: 31 Sex: MALE Available Age: 45 Sex: FEMALE Available Age:\\n46 Sex: MALE Available | 19] BWV0916213 | 20] ACB1859529 | 21] ACB1829589\\nName: saloni dua manglani Name: SHANTA KUMAR Name: ARPITA ARORA Father\\'s Name:\\nBHISHAM KUMAR Husband\\'s Name: RAJ KUMAR Father\\'s Name: SUNIL KUMAR House\\nNumber: 3462 A PLOT NO. 41B Photo is House Number: A/4 Photo is ARORA Photo is\\nAge: 34 Sex: FEMALE Available Age: 54 Sex: FEMALE Available House Number: A/4\\nAvailable Age: 22 Sex: FEMALE | ee ACB1/68364 | 23 ACB1/66947 | 24 ACB1/62862\\nName: NILESH KUMAR Name: MOHAMMAD FAISAL Name: KUNAL KUMAR Father\\'s Name:\\nNAVEEN KUMAR Father\\'s Name : MOHAMMAD Father\\'s Name: RAKESH KUMAR House\\nNumber: A4X-G/12 Photo is MOINUDDIN Photo is House Number: A4/269 Photo is\\nAge: 24 Sex: MALE Available House Number: A/4BG-22 Available Age: 24 Sex: MALE\\nAvailable Age: 25 Sex: MALE | 25 MWWO0981647 | 26 ACB1829191 | 27 ACB1829167\\nName: ANSHU SHARMA Name: RAMESH BHANDARI Name: URMILA BHANDARI Husband\\'s Name:\\nVIVEK SHARMA Father\\'s Name: KRISHAN LAL Husband\\'s Name: RAMESH House Number:\\nA-6/135-D Photo is BHANDARI Photo is BHANDARI Photo is Age: 35 Sex: FEMALE\\nAvailable House Number: AG-4 Available House Number: AG-4 Available Age: 60\\nSex: MALE Age: 56 Sex: FEMALE 28| ACB1829183 29] ACB1829175 30] ACB1864469\\nName: VARUN BHANDARI Name: HIMANI BHANDARI Name: NEELAM SHARMA Father\\'s Name:\\nRAMESH BHANDARI Father\\'s Name: RAMESH BHANDARI Husband\\'s Name: SUNIL SHARMA\\nHouse Number: AG-4 Photo is House Number: AG-4 Photo is House Number: AG-16\\nPhoto is Age: 31 Sex: MALE Available Age: 25 Sex: FEMALE Available Age: 58\\nSex: FEMALE Available\\n\\nAge as on 01.01.2020\\n\\nDate of Publication:-15-11-2019\\n\\nTotal Pages 4/7 - Page 3\\n\\n'"
      ]
     },
     "execution_count": 36,
     "metadata": {},
     "output_type": "execute_result"
    }
   ],
   "source": [
    "sheets"
   ]
  },
  {
   "cell_type": "code",
   "execution_count": 37,
   "metadata": {},
   "outputs": [],
   "source": [
    "def extract_fields(in_string):\n",
    "    parent_names = re.findall('(Father|Mother|Husband)\\\\\\'s.*?Name.*?:(.*?)(?=Name|Father|Mother|Husband|Age|Sex|House)', in_string)\n",
    "    print(len(parent_names))\n",
    "    new_sp = re.sub('(Father|Mother|Husband)\\\\\\'s.*?Name.*?:(.*?)(?=Name|Father|Mother|Husband|Age|Sex|House)', '', in_string)\n",
    "    names = re.findall('(?<=Name)(.*?)(?=Name|Father|Mother|Husband|Age|Sex|House)',new_sp, re.IGNORECASE)\n",
    "#     names = re.findall('Name\\s?:(\\s?\\w+\\s\\w+)', new_sp)\n",
    "    print(len(names))\n",
    "    ages = re.findall('Age:\\s([0-9]+)', new_sp)\n",
    "    print(len(ages))\n",
    "    sex = re.findall('Sex:\\s(MALE|FEMALE)', new_sp)\n",
    "    print(len(sex))\n",
    "    house_numbers = re.findall('House Number\\s?:\\s?([^\\s]+)', new_sp)\n",
    "    print(len(house_numbers))\n",
    "    section_number_name = re.findall('section No and Name\\s?:\\s?([^\\\\\\n]*)', new_sp, re.IGNORECASE)\n",
    "    relative_type, relation_name = zip(*map(lambda x: x.split(':'), parent_names))\n",
    "    df = pd.DataFrame(zip(list(relative_type), list(relation_name), names, ages, sex, house_numbers))\n",
    "    column_names = ['Relative Type', 'Relative Name', 'Name', 'Age', 'Sex', 'House Number']\n",
    "    if section_number_name:\n",
    "        df[6] = section_number_name[0]\n",
    "        column_names.append('Section Number and Name')\n",
    "    df.columns = column_names\n",
    "    return df"
   ]
  },
  {
   "cell_type": "code",
   "execution_count": 38,
   "metadata": {},
   "outputs": [
    {
     "name": "stdout",
     "output_type": "stream",
     "text": [
      "18\n",
      "26\n",
      "30\n",
      "30\n",
      "25\n"
     ]
    },
    {
     "ename": "AttributeError",
     "evalue": "'tuple' object has no attribute 'split'",
     "output_type": "error",
     "traceback": [
      "\u001b[0;31m---------------------------------------------------------------------------\u001b[0m",
      "\u001b[0;31mAttributeError\u001b[0m                            Traceback (most recent call last)",
      "\u001b[0;32m<ipython-input-38-7600ca33705f>\u001b[0m in \u001b[0;36m<module>\u001b[0;34m\u001b[0m\n\u001b[0;32m----> 1\u001b[0;31m \u001b[0mextract_fields\u001b[0m\u001b[0;34m(\u001b[0m\u001b[0msheets\u001b[0m\u001b[0;34m)\u001b[0m\u001b[0;34m\u001b[0m\u001b[0;34m\u001b[0m\u001b[0m\n\u001b[0m",
      "\u001b[0;32m<ipython-input-37-63099e1d3f9d>\u001b[0m in \u001b[0;36mextract_fields\u001b[0;34m(in_string)\u001b[0m\n\u001b[1;32m     13\u001b[0m     \u001b[0mprint\u001b[0m\u001b[0;34m(\u001b[0m\u001b[0mlen\u001b[0m\u001b[0;34m(\u001b[0m\u001b[0mhouse_numbers\u001b[0m\u001b[0;34m)\u001b[0m\u001b[0;34m)\u001b[0m\u001b[0;34m\u001b[0m\u001b[0;34m\u001b[0m\u001b[0m\n\u001b[1;32m     14\u001b[0m     \u001b[0msection_number_name\u001b[0m \u001b[0;34m=\u001b[0m \u001b[0mre\u001b[0m\u001b[0;34m.\u001b[0m\u001b[0mfindall\u001b[0m\u001b[0;34m(\u001b[0m\u001b[0;34m'section No and Name\\s?:\\s?([^\\\\\\n]*)'\u001b[0m\u001b[0;34m,\u001b[0m \u001b[0mnew_sp\u001b[0m\u001b[0;34m,\u001b[0m \u001b[0mre\u001b[0m\u001b[0;34m.\u001b[0m\u001b[0mIGNORECASE\u001b[0m\u001b[0;34m)\u001b[0m\u001b[0;34m\u001b[0m\u001b[0;34m\u001b[0m\u001b[0m\n\u001b[0;32m---> 15\u001b[0;31m     \u001b[0mrelative_type\u001b[0m\u001b[0;34m,\u001b[0m \u001b[0mrelation_name\u001b[0m \u001b[0;34m=\u001b[0m \u001b[0mzip\u001b[0m\u001b[0;34m(\u001b[0m\u001b[0;34m*\u001b[0m\u001b[0mmap\u001b[0m\u001b[0;34m(\u001b[0m\u001b[0;32mlambda\u001b[0m \u001b[0mx\u001b[0m\u001b[0;34m:\u001b[0m \u001b[0mx\u001b[0m\u001b[0;34m.\u001b[0m\u001b[0msplit\u001b[0m\u001b[0;34m(\u001b[0m\u001b[0;34m':'\u001b[0m\u001b[0;34m)\u001b[0m\u001b[0;34m,\u001b[0m \u001b[0mparent_names\u001b[0m\u001b[0;34m)\u001b[0m\u001b[0;34m)\u001b[0m\u001b[0;34m\u001b[0m\u001b[0;34m\u001b[0m\u001b[0m\n\u001b[0m\u001b[1;32m     16\u001b[0m     \u001b[0mdf\u001b[0m \u001b[0;34m=\u001b[0m \u001b[0mpd\u001b[0m\u001b[0;34m.\u001b[0m\u001b[0mDataFrame\u001b[0m\u001b[0;34m(\u001b[0m\u001b[0mzip\u001b[0m\u001b[0;34m(\u001b[0m\u001b[0mlist\u001b[0m\u001b[0;34m(\u001b[0m\u001b[0mrelative_type\u001b[0m\u001b[0;34m)\u001b[0m\u001b[0;34m,\u001b[0m \u001b[0mlist\u001b[0m\u001b[0;34m(\u001b[0m\u001b[0mrelation_name\u001b[0m\u001b[0;34m)\u001b[0m\u001b[0;34m,\u001b[0m \u001b[0mnames\u001b[0m\u001b[0;34m,\u001b[0m \u001b[0mages\u001b[0m\u001b[0;34m,\u001b[0m \u001b[0msex\u001b[0m\u001b[0;34m,\u001b[0m \u001b[0mhouse_numbers\u001b[0m\u001b[0;34m)\u001b[0m\u001b[0;34m)\u001b[0m\u001b[0;34m\u001b[0m\u001b[0;34m\u001b[0m\u001b[0m\n\u001b[1;32m     17\u001b[0m     \u001b[0mcolumn_names\u001b[0m \u001b[0;34m=\u001b[0m \u001b[0;34m[\u001b[0m\u001b[0;34m'Relative Type'\u001b[0m\u001b[0;34m,\u001b[0m \u001b[0;34m'Relative Name'\u001b[0m\u001b[0;34m,\u001b[0m \u001b[0;34m'Name'\u001b[0m\u001b[0;34m,\u001b[0m \u001b[0;34m'Age'\u001b[0m\u001b[0;34m,\u001b[0m \u001b[0;34m'Sex'\u001b[0m\u001b[0;34m,\u001b[0m \u001b[0;34m'House Number'\u001b[0m\u001b[0;34m]\u001b[0m\u001b[0;34m\u001b[0m\u001b[0;34m\u001b[0m\u001b[0m\n",
      "\u001b[0;32m<ipython-input-37-63099e1d3f9d>\u001b[0m in \u001b[0;36m<lambda>\u001b[0;34m(x)\u001b[0m\n\u001b[1;32m     13\u001b[0m     \u001b[0mprint\u001b[0m\u001b[0;34m(\u001b[0m\u001b[0mlen\u001b[0m\u001b[0;34m(\u001b[0m\u001b[0mhouse_numbers\u001b[0m\u001b[0;34m)\u001b[0m\u001b[0;34m)\u001b[0m\u001b[0;34m\u001b[0m\u001b[0;34m\u001b[0m\u001b[0m\n\u001b[1;32m     14\u001b[0m     \u001b[0msection_number_name\u001b[0m \u001b[0;34m=\u001b[0m \u001b[0mre\u001b[0m\u001b[0;34m.\u001b[0m\u001b[0mfindall\u001b[0m\u001b[0;34m(\u001b[0m\u001b[0;34m'section No and Name\\s?:\\s?([^\\\\\\n]*)'\u001b[0m\u001b[0;34m,\u001b[0m \u001b[0mnew_sp\u001b[0m\u001b[0;34m,\u001b[0m \u001b[0mre\u001b[0m\u001b[0;34m.\u001b[0m\u001b[0mIGNORECASE\u001b[0m\u001b[0;34m)\u001b[0m\u001b[0;34m\u001b[0m\u001b[0;34m\u001b[0m\u001b[0m\n\u001b[0;32m---> 15\u001b[0;31m     \u001b[0mrelative_type\u001b[0m\u001b[0;34m,\u001b[0m \u001b[0mrelation_name\u001b[0m \u001b[0;34m=\u001b[0m \u001b[0mzip\u001b[0m\u001b[0;34m(\u001b[0m\u001b[0;34m*\u001b[0m\u001b[0mmap\u001b[0m\u001b[0;34m(\u001b[0m\u001b[0;32mlambda\u001b[0m \u001b[0mx\u001b[0m\u001b[0;34m:\u001b[0m \u001b[0mx\u001b[0m\u001b[0;34m.\u001b[0m\u001b[0msplit\u001b[0m\u001b[0;34m(\u001b[0m\u001b[0;34m':'\u001b[0m\u001b[0;34m)\u001b[0m\u001b[0;34m,\u001b[0m \u001b[0mparent_names\u001b[0m\u001b[0;34m)\u001b[0m\u001b[0;34m)\u001b[0m\u001b[0;34m\u001b[0m\u001b[0;34m\u001b[0m\u001b[0m\n\u001b[0m\u001b[1;32m     16\u001b[0m     \u001b[0mdf\u001b[0m \u001b[0;34m=\u001b[0m \u001b[0mpd\u001b[0m\u001b[0;34m.\u001b[0m\u001b[0mDataFrame\u001b[0m\u001b[0;34m(\u001b[0m\u001b[0mzip\u001b[0m\u001b[0;34m(\u001b[0m\u001b[0mlist\u001b[0m\u001b[0;34m(\u001b[0m\u001b[0mrelative_type\u001b[0m\u001b[0;34m)\u001b[0m\u001b[0;34m,\u001b[0m \u001b[0mlist\u001b[0m\u001b[0;34m(\u001b[0m\u001b[0mrelation_name\u001b[0m\u001b[0;34m)\u001b[0m\u001b[0;34m,\u001b[0m \u001b[0mnames\u001b[0m\u001b[0;34m,\u001b[0m \u001b[0mages\u001b[0m\u001b[0;34m,\u001b[0m \u001b[0msex\u001b[0m\u001b[0;34m,\u001b[0m \u001b[0mhouse_numbers\u001b[0m\u001b[0;34m)\u001b[0m\u001b[0;34m)\u001b[0m\u001b[0;34m\u001b[0m\u001b[0;34m\u001b[0m\u001b[0m\n\u001b[1;32m     17\u001b[0m     \u001b[0mcolumn_names\u001b[0m \u001b[0;34m=\u001b[0m \u001b[0;34m[\u001b[0m\u001b[0;34m'Relative Type'\u001b[0m\u001b[0;34m,\u001b[0m \u001b[0;34m'Relative Name'\u001b[0m\u001b[0;34m,\u001b[0m \u001b[0;34m'Name'\u001b[0m\u001b[0;34m,\u001b[0m \u001b[0;34m'Age'\u001b[0m\u001b[0;34m,\u001b[0m \u001b[0;34m'Sex'\u001b[0m\u001b[0;34m,\u001b[0m \u001b[0;34m'House Number'\u001b[0m\u001b[0;34m]\u001b[0m\u001b[0;34m\u001b[0m\u001b[0;34m\u001b[0m\u001b[0m\n",
      "\u001b[0;31mAttributeError\u001b[0m: 'tuple' object has no attribute 'split'"
     ]
    }
   ],
   "source": [
    "extract_fields(sheets)"
   ]
  },
  {
   "cell_type": "code",
   "execution_count": 57,
   "metadata": {},
   "outputs": [
    {
     "data": {
      "text/plain": [
       "[' BALWANT SINGH ',\n",
       " ' DEVANAND RACHHORA ',\n",
       " ' ARUN GOEL MATHARU ',\n",
       " ' INDERPAL SINGH Phato is WADHWA ',\n",
       " ' KAPIL SAKHUJA ',\n",
       " ' SANJAY MITTAL ',\n",
       " ' PURSHOTAM LAL ',\n",
       " ' LILADHAR BAJAJ ',\n",
       " ' DHARAM PAL ',\n",
       " ' MOHAMMAD KALLU ',\n",
       " ' SANJEEV KUMAR ',\n",
       " ' KHYALI RAM RAI ',\n",
       " ' RAJ KUMAR ',\n",
       " ' SUNIL KUMAR ',\n",
       " ' MOHAMMAD ',\n",
       " ' RAKESH KUMAR ',\n",
       " ' KRISHAN LAL ',\n",
       " ' RAMESH ',\n",
       " ' RAMESH BHANDARI ']"
      ]
     },
     "execution_count": 57,
     "metadata": {},
     "output_type": "execute_result"
    }
   ],
   "source": [
    "regex.findall('(?<=Father|Mother|Husband)\\\\\\'s.*?Name.*?:(.*?)(?=Name|Father|Mother|Husband|Age|Sex|House|Photo)', sheets, re.IGNORECASE)"
   ]
  },
  {
   "cell_type": "code",
   "execution_count": 52,
   "metadata": {},
   "outputs": [],
   "source": [
    "import regex"
   ]
  },
  {
   "cell_type": "code",
   "execution_count": 53,
   "metadata": {},
   "outputs": [
    {
     "data": {
      "text/plain": [
       "<function regex.regex.findall(pattern, string, flags=0, pos=None, endpos=None, overlapped=False, concurrent=None, timeout=None, **kwargs)>"
      ]
     },
     "execution_count": 53,
     "metadata": {},
     "output_type": "execute_result"
    }
   ],
   "source": [
    "regex.findall"
   ]
  },
  {
   "cell_type": "code",
   "execution_count": 13,
   "metadata": {},
   "outputs": [],
   "source": [
    "import html2text\n",
    "# html = open(\"foobar.html\").read()\n",
    "# print html2text.html2text(html)"
   ]
  },
  {
   "cell_type": "code",
   "execution_count": 12,
   "metadata": {},
   "outputs": [
    {
     "name": "stdout",
     "output_type": "stream",
     "text": [
      "Collecting html2text\n",
      "  Downloading https://files.pythonhosted.org/packages/49/21/eb38d335ab15fc13564a5e971c1403707fb3a037292f246fa82e17208794/html2text-2019.9.26-py3-none-any.whl\n",
      "Installing collected packages: html2text\n",
      "Successfully installed html2text-2019.9.26\n",
      "Note: you may need to restart the kernel to use updated packages.\n"
     ]
    }
   ],
   "source": [
    "pip install html2text"
   ]
  },
  {
   "cell_type": "code",
   "execution_count": 15,
   "metadata": {},
   "outputs": [],
   "source": [
    "sheets = html2text.html2text(sheets)"
   ]
  },
  {
   "cell_type": "code",
   "execution_count": 58,
   "metadata": {},
   "outputs": [],
   "source": [
    "    parent_names = re.findall('(Father|Mother|Husband)\\\\\\'s.*?Name.*?:(.*?)(?=Name|Father|Mother|Husband|Age|Sex|House|Photo)', sheets)"
   ]
  },
  {
   "cell_type": "code",
   "execution_count": 59,
   "metadata": {},
   "outputs": [
    {
     "data": {
      "text/plain": [
       "[('Father', ' BALWANT SINGH '),\n",
       " ('Father', ' DEVANAND RACHHORA '),\n",
       " ('Father', ' ARUN GOEL MATHARU '),\n",
       " ('Father', ' INDERPAL SINGH Phato is WADHWA '),\n",
       " ('Father', ' KAPIL SAKHUJA '),\n",
       " ('Father', ' SANJAY MITTAL '),\n",
       " ('Father', ' PURSHOTAM LAL '),\n",
       " ('Father', ' LILADHAR BAJAJ '),\n",
       " ('Father', ' DHARAM PAL '),\n",
       " ('Father', ' MOHAMMAD KALLU '),\n",
       " ('Husband', ' SANJEEV KUMAR '),\n",
       " ('Father', ' KHYALI RAM RAI '),\n",
       " ('Husband', ' RAJ KUMAR '),\n",
       " ('Father', ' SUNIL KUMAR '),\n",
       " ('Father', ' MOHAMMAD '),\n",
       " ('Father', ' RAKESH KUMAR '),\n",
       " ('Father', ' KRISHAN LAL '),\n",
       " ('Husband', ' RAMESH '),\n",
       " ('Father', ' RAMESH BHANDARI ')]"
      ]
     },
     "execution_count": 59,
     "metadata": {},
     "output_type": "execute_result"
    }
   ],
   "source": [
    "parent_names"
   ]
  },
  {
   "cell_type": "code",
   "execution_count": 67,
   "metadata": {},
   "outputs": [],
   "source": [
    "import difflib"
   ]
  },
  {
   "cell_type": "code",
   "execution_count": 72,
   "metadata": {},
   "outputs": [
    {
     "data": {
      "text/plain": [
       "<difflib.HtmlDiff at 0x7f2a6162bdd0>"
      ]
     },
     "execution_count": 72,
     "metadata": {},
     "output_type": "execute_result"
    }
   ],
   "source": [
    "difflib.HtmlDiff(test_str, sheets)"
   ]
  },
  {
   "cell_type": "code",
   "execution_count": 60,
   "metadata": {},
   "outputs": [
    {
     "name": "stdout",
     "output_type": "stream",
     "text": [
      "Match 1 was found at 226-256: Father\\'s Name: BALWANT SINGH \n",
      "Group 1 found at 226-232: Father\n",
      "Group 2 found at 241-256:  BALWANT SINGH \n",
      "Match 2 was found at 256-284: Mother\\'s Name: Sonu Gupta\\n\n",
      "Group 1 found at 256-262: Mother\n",
      "Group 2 found at 271-284:  Sonu Gupta\\n\n",
      "Match 3 was found at 284-318: Father\\'s Name: DEVANAND RACHHORA \n",
      "Group 1 found at 284-290: Father\n",
      "Group 2 found at 299-318:  DEVANAND RACHHORA \n",
      "Match 4 was found at 612-646: Father\\'s Name: ARUN GOEL MATHARU \n",
      "Group 1 found at 612-618: Father\n",
      "Group 2 found at 627-646:  ARUN GOEL MATHARU \n",
      "Match 5 was found at 646-678: Father\\'s Name: RAVINDER KUMAR\\n\n",
      "Group 1 found at 646-652: Father\n",
      "Group 2 found at 661-678:  RAVINDER KUMAR\\n\n",
      "Match 6 was found at 703-750: Father\\'s Name: INDERPAL SINGH Phato is WADHWA \n",
      "Group 1 found at 703-709: Father\n",
      "Group 2 found at 718-750:  INDERPAL SINGH Phato is WADHWA \n",
      "Match 7 was found at 998-1028: Father\\'s Name: KAPIL SAKHUJA \n",
      "Group 1 found at 998-1004: Father\n",
      "Group 2 found at 1013-1028:  KAPIL SAKHUJA \n",
      "Match 8 was found at 1028-1058: Father\\'s Name: SANJAY MITTAL \n",
      "Group 1 found at 1028-1034: Father\n",
      "Group 2 found at 1043-1058:  SANJAY MITTAL \n",
      "Match 9 was found at 1058-1090: Father\\'s\\nName: RAVINDER KUMAR \n",
      "Group 1 found at 1058-1064: Father\n",
      "Group 2 found at 1074-1090:  RAVINDER KUMAR \n",
      "Match 10 was found at 1373-1403: Father\\'s Name: PURSHOTAM LAL \n",
      "Group 1 found at 1373-1379: Father\n",
      "Group 2 found at 1388-1403:  PURSHOTAM LAL \n",
      "Match 11 was found at 1403-1434: Father\\'s Name: LILADHAR BAJAJ \n",
      "Group 1 found at 1403-1409: Father\n",
      "Group 2 found at 1418-1434:  LILADHAR BAJAJ \n",
      "Match 12 was found at 1434-1464: Father\\'s Name:\\nVIKAS SHARMA \n",
      "Group 1 found at 1434-1440: Father\n",
      "Group 2 found at 1449-1464: \\nVIKAS SHARMA \n",
      "Match 13 was found at 1745-1773: Father\\'s Name : DHARAM PAL \n",
      "Group 1 found at 1745-1751: Father\n",
      "Group 2 found at 1761-1773:  DHARAM PAL \n",
      "Match 14 was found at 1773-1805: Father\\'s Name : MOHAMMAD KALLU \n",
      "Group 1 found at 1773-1779: Father\n",
      "Group 2 found at 1789-1805:  MOHAMMAD KALLU \n",
      "Match 15 was found at 1805-1839: Father\\'s Name: HARI\\nKISHAN GOEL \n",
      "Group 1 found at 1805-1811: Father\n",
      "Group 2 found at 1820-1839:  HARI\\nKISHAN GOEL \n",
      "Match 16 was found at 2122-2149: Father\\'s Name\\n: LEKH RAJ \n",
      "Group 1 found at 2122-2128: Father\n",
      "Group 2 found at 2139-2149:  LEKH RAJ \n",
      "Match 17 was found at 2149-2180: Husband\\'s Name: SANJEEV KUMAR \n",
      "Group 1 found at 2149-2156: Husband\n",
      "Group 2 found at 2165-2180:  SANJEEV KUMAR \n",
      "Match 18 was found at 2180-2211: Father\\'s Name: KHYALI RAM RAI \n",
      "Group 1 found at 2180-2186: Father\n",
      "Group 2 found at 2195-2211:  KHYALI RAM RAI \n",
      "Match 19 was found at 2513-2544: Father\\'s Name:\\nBHISHAM KUMAR \n",
      "Group 1 found at 2513-2519: Father\n",
      "Group 2 found at 2528-2544: \\nBHISHAM KUMAR \n",
      "Match 20 was found at 2544-2571: Husband\\'s Name: RAJ KUMAR \n",
      "Group 1 found at 2544-2551: Husband\n",
      "Group 2 found at 2560-2571:  RAJ KUMAR \n",
      "Match 21 was found at 2571-2599: Father\\'s Name: SUNIL KUMAR \n",
      "Group 1 found at 2571-2577: Father\n",
      "Group 2 found at 2586-2599:  SUNIL KUMAR \n",
      "Match 22 was found at 2903-2933: Father\\'s Name:\\nNAVEEN KUMAR \n",
      "Group 1 found at 2903-2909: Father\n",
      "Group 2 found at 2918-2933: \\nNAVEEN KUMAR \n",
      "Match 23 was found at 2933-2959: Father\\'s Name : MOHAMMAD \n",
      "Group 1 found at 2933-2939: Father\n",
      "Group 2 found at 2949-2959:  MOHAMMAD \n",
      "Match 24 was found at 2959-2988: Father\\'s Name: RAKESH KUMAR \n",
      "Group 1 found at 2959-2965: Father\n",
      "Group 2 found at 2974-2988:  RAKESH KUMAR \n",
      "Match 25 was found at 3292-3323: Husband\\'s Name:\\nVIVEK SHARMA \n",
      "Group 1 found at 3292-3299: Husband\n",
      "Group 2 found at 3308-3323: \\nVIVEK SHARMA \n",
      "Match 26 was found at 3323-3351: Father\\'s Name: KRISHAN LAL \n",
      "Group 1 found at 3323-3329: Father\n",
      "Group 2 found at 3338-3351:  KRISHAN LAL \n",
      "Match 27 was found at 3351-3375: Husband\\'s Name: RAMESH \n",
      "Group 1 found at 3351-3358: Husband\n",
      "Group 2 found at 3367-3375:  RAMESH \n",
      "Match 28 was found at 3682-3715: Father\\'s Name:\\nRAMESH BHANDARI \n",
      "Group 1 found at 3682-3688: Father\n",
      "Group 2 found at 3697-3715: \\nRAMESH BHANDARI \n",
      "Match 29 was found at 3715-3747: Father\\'s Name: RAMESH BHANDARI \n",
      "Group 1 found at 3715-3721: Father\n",
      "Group 2 found at 3730-3747:  RAMESH BHANDARI \n",
      "Match 30 was found at 3747-3778: Husband\\'s Name: SUNIL SHARMA\\n\n",
      "Group 1 found at 3747-3754: Husband\n",
      "Group 2 found at 3763-3778:  SUNIL SHARMA\\n\n"
     ]
    }
   ],
   "source": [
    "import re\n",
    "\n",
    "regex = r\"(Father|Mother|Husband)\\\\\\'s.*?Name.*?:(.*?)(?=Name|Father|Mother|Husband|Age|Sex|House|Photo)\"\n",
    "\n",
    "test_str = \"Assembly Constituency No and Name: 15-SHAKUR BAST!\\\\n\\\\nsection No and Name : 1-SHIVA ENCLAVEA-4, PASCHIM VIHAR\\\\n\\\\nPart No.-: 1\\\\n\\\\n1 ACBO0168161 2 ACB1414489 3 ACB1/03387 Name: SAJAG RACHHORA Name: Ankush\\\\nGoyal Name: YASH RAVI Father\\\\'s Name: BALWANT SINGH Mother\\\\'s Name: Sonu Gupta\\\\nFather\\\\'s Name: DEVANAND RACHHORA Photo is House Number: 4, Second Floor Photo\\\\nis House Number: 5/9 Photo is House Number: 3 Available Age: 29 Sex: MALE\\\\nAvailable Age: 26 Sex: MALE Available Age: 34 Sex: MALE | 4 | ACB1474699 | 9 |\\\\nACB1496776 | 6 | ACB1496/784 Name: MAYANK GOEL Name: NARENDRAPAL SINGH Name:\\\\nKRITIKA WADHWA Father\\\\'s Name: ARUN GOEL MATHARU Father\\\\'s Name: RAVINDER KUMAR\\\\nHouse Number: 8 Photo is Father\\\\'s Name: INDERPAL SINGH Phato is WADHWA Photo\\\\nis Age: 26 Sex: MALE Available MATHARU Available House Number: 12-CG Available\\\\nHouse Number: 11-28 Age: 28 Sex: FEMALE Age: 38 Sex: MALE f ACB1/12652 8\\\\nACB1634/798 J ACB1501907 Name: DEEPAK SAKHUJA Name: SANDEEP MITTAL Name: ANKIT\\\\nDUGGAL Father\\\\'s Name: KAPIL SAKHUJA Father\\\\'s Name: SANJAY MITTAL Father\\\\'s\\\\nName: RAVINDER KUMAR House Number: 14-CF Photo is House Number: 15 Photo is\\\\nDUGGAL Photo is Age: 23 Sex: MALE Available Age: 24 Sex: MALE Available House\\\\nNumber: 18-BF Available Age: 29 Sex: MALE 10 ACB1/41560 \\\"1 ACB1/42120 12\\\\nACB184/7995 Name: NITIKANARANG Name: SHUBHAM BAJAJ Name: EKANSH BHARDWAJ\\\\nFather\\\\'s Name: PURSHOTAM LAL Father\\\\'s Name: LILADHAR BAJAJ Father\\\\'s Name:\\\\nVIKAS SHARMA House Number: 20 Photo is House Number: 2/SF Photo is House\\\\nNumber: 64-6 Photo is Age: 24 Sex: FEMALE Available Age: 21 Sex: MALE\\\\nAvailable Age: 21 Sex: MALE Available 13] TVNO0093?11 14] ACB1845890 15]\\\\nACB1809995 Name: SUNIL KUMAR Name: MOHAMMAD Sharif Name: SHRIBHAGWAN GOEL\\\\nFather\\\\'s Name : DHARAM PAL Father\\\\'s Name : MOHAMMAD KALLU Father\\\\'s Name: HARI\\\\nKISHAN GOEL House Number: 7/7 Photo is House Number: 122/15 Railway colony\\\\nPhato is House Number: 162-TF Photo is Age: 38 Sex: MALE Available Age: 21\\\\nSex: MALE Available Age: 49 Sex: MALE Available 16 ACB188/7850 | 7 ACB1964954\\\\n18 ACB1964897 Name: TARUN KUMAR Name: RAJNI Name: SANJEEV KUMAR Father\\\\'s Name\\\\n: LEKH RAJ Husband\\\\'s Name: SANJEEV KUMAR Father\\\\'s Name: KHYALI RAM RAI House\\\\nNumber: 7/70, 3RD FLOOR Photo is House Number: 3148 Photo is House Number:\\\\n3143AK Photo is Age: 31 Sex: MALE Available Age: 45 Sex: FEMALE Available Age:\\\\n46 Sex: MALE Available | 19] BWV0916213 | 20] ACB1859529 | 21] ACB1829589\\\\nName: saloni dua manglani Name: SHANTA KUMAR Name: ARPITA ARORA Father\\\\'s Name:\\\\nBHISHAM KUMAR Husband\\\\'s Name: RAJ KUMAR Father\\\\'s Name: SUNIL KUMAR House\\\\nNumber: 3462 A PLOT NO. 41B Photo is House Number: A/4 Photo is ARORA Photo is\\\\nAge: 34 Sex: FEMALE Available Age: 54 Sex: FEMALE Available House Number: A/4\\\\nAvailable Age: 22 Sex: FEMALE | ee ACB1/68364 | 23 ACB1/66947 | 24 ACB1/62862\\\\nName: NILESH KUMAR Name: MOHAMMAD FAISAL Name: KUNAL KUMAR Father\\\\'s Name:\\\\nNAVEEN KUMAR Father\\\\'s Name : MOHAMMAD Father\\\\'s Name: RAKESH KUMAR House\\\\nNumber: A4X-G/12 Photo is MOINUDDIN Photo is House Number: A4/269 Photo is\\\\nAge: 24 Sex: MALE Available House Number: A/4BG-22 Available Age: 24 Sex: MALE\\\\nAvailable Age: 25 Sex: MALE | 25 MWWO0981647 | 26 ACB1829191 | 27 ACB1829167\\\\nName: ANSHU SHARMA Name: RAMESH BHANDARI Name: URMILA BHANDARI Husband\\\\'s Name:\\\\nVIVEK SHARMA Father\\\\'s Name: KRISHAN LAL Husband\\\\'s Name: RAMESH House Number:\\\\nA-6/135-D Photo is BHANDARI Photo is BHANDARI Photo is Age: 35 Sex: FEMALE\\\\nAvailable House Number: AG-4 Available House Number: AG-4 Available Age: 60\\\\nSex: MALE Age: 56 Sex: FEMALE 28| ACB1829183 29] ACB1829175 30] ACB1864469\\\\nName: VARUN BHANDARI Name: HIMANI BHANDARI Name: NEELAM SHARMA Father\\\\'s Name:\\\\nRAMESH BHANDARI Father\\\\'s Name: RAMESH BHANDARI Husband\\\\'s Name: SUNIL SHARMA\\\\nHouse Number: AG-4 Photo is House Number: AG-4 Photo is House Number: AG-16\\\\nPhoto is Age: 31 Sex: MALE Available Age: 25 Sex: FEMALE Available Age: 58\\\\nSex: FEMALE Available\\\\n\\\\nAge as on 01.01.2020\\\\n\\\\nDate of Publication:-15-11-2019\\\\n\\\\nTotal Pages 4/7 - Page 3\\\\n\\\\n\"\n",
    "\n",
    "matches = re.finditer(regex, test_str)\n",
    "\n",
    "for matchNum, match in enumerate(matches, start=1):\n",
    "    \n",
    "    print (\"Match {matchNum} was found at {start}-{end}: {match}\".format(matchNum = matchNum, start = match.start(), end = match.end(), match = match.group()))\n",
    "    \n",
    "    for groupNum in range(0, len(match.groups())):\n",
    "        groupNum = groupNum + 1\n",
    "        \n",
    "        print (\"Group {groupNum} found at {start}-{end}: {group}\".format(groupNum = groupNum, start = match.start(groupNum), end = match.end(groupNum), group = match.group(groupNum)))\n"
   ]
  },
  {
   "cell_type": "code",
   "execution_count": null,
   "metadata": {},
   "outputs": [],
   "source": []
  }
 ],
 "metadata": {
  "kernelspec": {
   "display_name": "Python 3",
   "language": "python",
   "name": "python3"
  },
  "language_info": {
   "codemirror_mode": {
    "name": "ipython",
    "version": 3
   },
   "file_extension": ".py",
   "mimetype": "text/x-python",
   "name": "python",
   "nbconvert_exporter": "python",
   "pygments_lexer": "ipython3",
   "version": "3.7.5"
  }
 },
 "nbformat": 4,
 "nbformat_minor": 2
}
