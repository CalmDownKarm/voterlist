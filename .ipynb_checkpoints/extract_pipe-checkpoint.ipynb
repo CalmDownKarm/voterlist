{
 "cells": [
  {
   "cell_type": "code",
   "execution_count": 167,
   "metadata": {},
   "outputs": [],
   "source": [
    "import re\n",
    "import os\n",
    "import glob\n",
    "import json\n",
    "import pytesseract\n",
    "from PIL import Image"
   ]
  },
  {
   "cell_type": "code",
   "execution_count": 104,
   "metadata": {},
   "outputs": [],
   "source": [
    "row_height = 590\n",
    "rows_start = 330\n",
    "left_margin_rows = 220\n",
    "right_margin_rows = 245\n",
    "box_width = 1500"
   ]
  },
  {
   "cell_type": "code",
   "execution_count": 120,
   "metadata": {},
   "outputs": [],
   "source": [
    "def get_string_from_row(row):\n",
    "    '''Takes in a single row (Image Object), gets 3 text strings out'''\n",
    "    return [pytesseract.image_to_string(row.crop((i * box_width, 0 ,(i + 1) * box_width, row_height))) for i in range(3)]"
   ]
  },
  {
   "cell_type": "code",
   "execution_count": 183,
   "metadata": {},
   "outputs": [],
   "source": [
    "regexes = {\n",
    "    'Name': \"(?<=Name)(.*)\",\n",
    "    'Relative': \"(Father|Mother|Husband)\\\\\\'s.*?Name.*?:(.*)\",\n",
    "    'Age': \"Age:\\s([0-9]+)\",\n",
    "    'Sex': \"Sex:\\s(MALE|FEMALE)\"\n",
    "}\n",
    "compiled_regexes = {k:re.compile(v) for k,v in regexes.items()}\n",
    "def handle_sheet(filename):\n",
    "    '''Takes a filename and returns a list of strings inside it'''\n",
    "    image = Image.open('./142_page_18.png')\n",
    "    width, height = image.size\n",
    "    header_box = (0,0,width, 320)\n",
    "    footer_box = (0, 6220, width, height)\n",
    "    rows = [image.crop((left_margin_rows, rows_start+ (i-1)*row_height, width-right_margin_rows, rows_start+ i*row_height)) for i in range(1, 11)]\n",
    "    strings = [get_string_from_row(row) for row in rows]\n",
    "    all_strings = [item for sublist in strings for item in sublist]\n",
    "    regexes = [[regex.search(string_)[0] if regex.search(string_) else None for regex in compiled_regexes.values()] for string_ in all_strings]\n",
    "    return{\n",
    "        'Header': pytesseract.image_to_string(image.crop(header_box)),\n",
    "        'Footer': pytesseract.image_to_string(image.crop(footer_box)),\n",
    "#         'Rows': rows,\n",
    "        'Strings': strings,\n",
    "        \"Regexes\": regexes\n",
    "    }"
   ]
  },
  {
   "cell_type": "code",
   "execution_count": null,
   "metadata": {},
   "outputs": [],
   "source": [
    "'''This is a dumb, lazy approach'''\n",
    "num_files = sorted([int(re.search('[0-9]+', filename)[0]) for filename in glob.glob('./*.png')])\n",
    "usable_files = [f'page_{num}.png' for num in num_files[2:-1]]\n",
    "for file in usable_files:\n",
    "    with open(file+'.json', 'w') as f:\n",
    "        json.dump(handle_sheet(file), f)"
   ]
  },
  {
   "cell_type": "code",
   "execution_count": null,
   "metadata": {},
   "outputs": [],
   "source": []
  }
 ],
 "metadata": {
  "file_extension": ".py",
  "kernelspec": {
   "display_name": "Python 3",
   "language": "python",
   "name": "python3"
  },
  "language_info": {
   "codemirror_mode": {
    "name": "ipython",
    "version": 3
   },
   "file_extension": ".py",
   "mimetype": "text/x-python",
   "name": "python",
   "nbconvert_exporter": "python",
   "pygments_lexer": "ipython3",
   "version": "3.7.5"
  },
  "mimetype": "text/x-python",
  "name": "python",
  "npconvert_exporter": "python",
  "pygments_lexer": "ipython3",
  "version": 3
 },
 "nbformat": 4,
 "nbformat_minor": 4
}
