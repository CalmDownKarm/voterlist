{
 "cells": [
  {
   "cell_type": "code",
   "execution_count": 2,
   "metadata": {},
   "outputs": [],
   "source": [
    "import re\n",
    "import os\n",
    "import glob\n",
    "import json\n",
    "import pytesseract\n",
    "from PIL import Image"
   ]
  },
  {
   "cell_type": "code",
   "execution_count": 2,
   "metadata": {},
   "outputs": [],
   "source": [
    "row_height = 590\n",
    "rows_start = 330\n",
    "left_margin_rows = 220\n",
    "right_margin_rows = 245\n",
    "box_width = 1500"
   ]
  },
  {
   "cell_type": "code",
   "execution_count": 3,
   "metadata": {},
   "outputs": [],
   "source": [
    "def get_string_from_row(row):\n",
    "    '''Takes in a single row (Image Object), gets 3 text strings out'''\n",
    "    return [pytesseract.image_to_string(row.crop((i * box_width, 0 ,(i + 1) * box_width, row_height))) for i in range(3)]"
   ]
  },
  {
   "cell_type": "code",
   "execution_count": 4,
   "metadata": {},
   "outputs": [],
   "source": [
    "regexes = {\n",
    "    'Name': \"(?<=Name)(.*)\",\n",
    "    'Relative': \"(Father|Mother|Husband)\\\\\\'s.*?Name.*?:(.*)\",\n",
    "    'Age': \"Age:\\s([0-9]+)\",\n",
    "    'Sex': \"Sex:\\s(MALE|FEMALE)\"\n",
    "}\n",
    "compiled_regexes = {k:re.compile(v) for k,v in regexes.items()}\n",
    "def handle_sheet(filename):\n",
    "    '''Takes a filename and returns a list of strings inside it'''\n",
    "    image = Image.open('./142_page_18.png')\n",
    "    width, height = image.size\n",
    "    header_box = (0,0,width, 320)\n",
    "    footer_box = (0, 6220, width, height)\n",
    "    rows = [image.crop((left_margin_rows, rows_start+ (i-1)*row_height, width-right_margin_rows, rows_start+ i*row_height)) for i in range(1, 11)]\n",
    "    strings = [get_string_from_row(row) for row in rows]\n",
    "    all_strings = [item for sublist in strings for item in sublist]\n",
    "    regexes = [[regex.search(string_)[0] if regex.search(string_) else None for regex in compiled_regexes.values()] for string_ in all_strings]\n",
    "    return{\n",
    "        'Header': pytesseract.image_to_string(image.crop(header_box)),\n",
    "        'Footer': pytesseract.image_to_string(image.crop(footer_box)),\n",
    "#         'Rows': rows,\n",
    "        'Strings': strings,\n",
    "        \"Regexes\": regexes\n",
    "    }"
   ]
  },
  {
   "cell_type": "code",
   "execution_count": null,
   "metadata": {},
   "outputs": [],
   "source": [
    "'''This is a dumb, lazy approach'''\n",
    "num_files = sorted([int(re.search('[0-9]+', filename)[0]) for filename in glob.glob('./*.png')])\n",
    "usable_files = [f'page_{num}.png' for num in num_files[2:-1]]\n",
    "for file in usable_files:\n",
    "    with open(file+'.json', 'w') as f:\n",
    "        json.dump(handle_sheet(file), f)"
   ]
  },
  {
   "cell_type": "code",
   "execution_count": 5,
   "metadata": {},
   "outputs": [],
   "source": [
    "jsons = glob.glob('./*.json')"
   ]
  },
  {
   "cell_type": "code",
   "execution_count": 6,
   "metadata": {},
   "outputs": [
    {
     "data": {
      "text/plain": [
       "['./page_38.png.json',\n",
       " './page_21.png.json',\n",
       " './page_15.png.json',\n",
       " './page_11.png.json',\n",
       " './page_34.png.json',\n",
       " './page_36.png.json',\n",
       " './page_29.png.json',\n",
       " './page_8.png.json',\n",
       " './page_32.png.json',\n",
       " './page_35.png.json',\n",
       " './page_22.png.json',\n",
       " './page_27.png.json',\n",
       " './page_43.png.json',\n",
       " './page_40.png.json',\n",
       " './page_41.png.json',\n",
       " './page_39.png.json',\n",
       " './page_10.png.json',\n",
       " './page_5.png.json',\n",
       " './page_3.png.json',\n",
       " './page_44.png.json',\n",
       " './page_23.png.json',\n",
       " './page_25.png.json',\n",
       " './page_30.png.json',\n",
       " './page_6.png.json',\n",
       " './page_16.png.json',\n",
       " './page_28.png.json',\n",
       " './page_13.png.json',\n",
       " './page_17.png.json',\n",
       " './page_37.png.json',\n",
       " './page_20.png.json',\n",
       " './page_33.png.json',\n",
       " './page_31.png.json',\n",
       " './page_26.png.json',\n",
       " './page_9.png.json',\n",
       " './page_46.png.json',\n",
       " './page_4.png.json',\n",
       " './page_19.png.json',\n",
       " './page_18.png.json',\n",
       " './page_24.png.json',\n",
       " './page_45.png.json',\n",
       " './page_7.png.json',\n",
       " './page_42.png.json',\n",
       " './page_14.png.json',\n",
       " './page_12.png.json']"
      ]
     },
     "execution_count": 6,
     "metadata": {},
     "output_type": "execute_result"
    }
   ],
   "source": [
    "jsons\n"
   ]
  },
  {
   "cell_type": "code",
   "execution_count": 6,
   "metadata": {},
   "outputs": [],
   "source": [
    "with open('./page_3.png.json')as f:\n",
    "    x = json.load(f)"
   ]
  },
  {
   "cell_type": "code",
   "execution_count": 9,
   "metadata": {},
   "outputs": [],
   "source": [
    "num_files = sorted([int(re.search('[0-9]+', filename)[0]) for filename in glob.glob('./*.json')])\n",
    "dataframes = []\n",
    "for file in num_files:\n",
    "    with open(f'./page_{file}.png.json') as f:\n",
    "        x = json.load(f)\n",
    "        dataframes += [pd.DataFrame(x['Regexes'])]"
   ]
  },
  {
   "cell_type": "code",
   "execution_count": 8,
   "metadata": {},
   "outputs": [],
   "source": [
    "num_files = sorted([int(re.search('[0-9]+', filename)[0]) for filename in glob.glob('./*.json')])\n",
    "import pandas as pd"
   ]
  },
  {
   "cell_type": "code",
   "execution_count": 15,
   "metadata": {},
   "outputs": [],
   "source": [
    "df = pd.concat(dataframes).dropna(how='all')\n",
    "df.columns = ['Name', 'Relative', 'Age', 'Sex']\n",
    "df['Name'] = df['Name'].apply(lambda x: x.split(':')[-1].strip() if isinstance(x, str) else None)\n",
    "df['Age'] = df['Age'].apply(lambda x: x.split(':')[-1].strip() if isinstance(x, str) else None)\n",
    "df['Sex'] = df['Sex'].apply(lambda x: x.split(':')[-1].strip() if isinstance(x, str) else None)\n"
   ]
  },
  {
   "cell_type": "code",
   "execution_count": 17,
   "metadata": {},
   "outputs": [],
   "source": [
    "df.to_csv('./first_pdf.csv', index=None)"
   ]
  },
  {
   "cell_type": "code",
   "execution_count": null,
   "metadata": {},
   "outputs": [],
   "source": []
  }
 ],
 "metadata": {
  "file_extension": ".py",
  "kernelspec": {
   "display_name": "Python 3",
   "language": "python",
   "name": "python3"
  },
  "language_info": {
   "codemirror_mode": {
    "name": "ipython",
    "version": 3
   },
   "file_extension": ".py",
   "mimetype": "text/x-python",
   "name": "python",
   "nbconvert_exporter": "python",
   "pygments_lexer": "ipython3",
   "version": "3.7.5"
  },
  "mimetype": "text/x-python",
  "name": "python",
  "npconvert_exporter": "python",
  "pygments_lexer": "ipython3",
  "version": 3
 },
 "nbformat": 4,
 "nbformat_minor": 4
}
