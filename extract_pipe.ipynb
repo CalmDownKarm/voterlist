{
 "cells": [
  {
   "cell_type": "code",
   "execution_count": 1,
   "metadata": {},
   "outputs": [],
   "source": [
    "import re\n",
    "import os\n",
    "import glob\n",
    "import json\n",
    "import pytesseract\n",
    "from PIL import Image\n",
    "import pandas as pd"
   ]
  },
  {
   "cell_type": "code",
   "execution_count": 4,
   "metadata": {},
   "outputs": [],
   "source": [
    "# My offsets\n",
    "row_height = 590\n",
    "rows_start = 330\n",
    "left_margin_rows = 220\n",
    "right_margin_rows = 245\n",
    "box_width = 1500"
   ]
  },
  {
   "cell_type": "code",
   "execution_count": 14,
   "metadata": {},
   "outputs": [
    {
     "name": "stdout",
     "output_type": "stream",
     "text": [
      "extract_pipe.py  \u001b[0m\u001b[01;35mpage_19.png\u001b[0m  \u001b[01;35mpage_29.png\u001b[0m  \u001b[01;35mpage_39.png\u001b[0m      \u001b[01;35mpage_4.png\u001b[0m\r\n",
      "nohup.log        \u001b[01;35mpage_1.png\u001b[0m   \u001b[01;35mpage_2.png\u001b[0m   \u001b[01;35mpage_3.png\u001b[0m       \u001b[01;35mpage_5.png\u001b[0m\r\n",
      "\u001b[01;35mpage_10.png\u001b[0m      \u001b[01;35mpage_20.png\u001b[0m  \u001b[01;35mpage_30.png\u001b[0m  page_3.png.json  \u001b[01;35mpage_6.png\u001b[0m\r\n",
      "\u001b[01;35mpage_11.png\u001b[0m      \u001b[01;35mpage_21.png\u001b[0m  \u001b[01;35mpage_31.png\u001b[0m  \u001b[01;35mpage_40.png\u001b[0m      \u001b[01;35mpage_7.png\u001b[0m\r\n",
      "\u001b[01;35mpage_12.png\u001b[0m      \u001b[01;35mpage_22.png\u001b[0m  \u001b[01;35mpage_32.png\u001b[0m  \u001b[01;35mpage_41.png\u001b[0m      \u001b[01;35mpage_8.png\u001b[0m\r\n",
      "\u001b[01;35mpage_13.png\u001b[0m      \u001b[01;35mpage_23.png\u001b[0m  \u001b[01;35mpage_33.png\u001b[0m  \u001b[01;35mpage_42.png\u001b[0m      \u001b[01;35mpage_9.png\u001b[0m\r\n",
      "\u001b[01;35mpage_14.png\u001b[0m      \u001b[01;35mpage_24.png\u001b[0m  \u001b[01;35mpage_34.png\u001b[0m  \u001b[01;35mpage_43.png\u001b[0m      png\r\n",
      "\u001b[01;35mpage_15.png\u001b[0m      \u001b[01;35mpage_25.png\u001b[0m  \u001b[01;35mpage_35.png\u001b[0m  \u001b[01;35mpage_44.png\u001b[0m\r\n",
      "\u001b[01;35mpage_16.png\u001b[0m      \u001b[01;35mpage_26.png\u001b[0m  \u001b[01;35mpage_36.png\u001b[0m  \u001b[01;35mpage_45.png\u001b[0m\r\n",
      "\u001b[01;35mpage_17.png\u001b[0m      \u001b[01;35mpage_27.png\u001b[0m  \u001b[01;35mpage_37.png\u001b[0m  \u001b[01;35mpage_46.png\u001b[0m\r\n",
      "\u001b[01;35mpage_18.png\u001b[0m      \u001b[01;35mpage_28.png\u001b[0m  \u001b[01;35mpage_38.png\u001b[0m  \u001b[01;35mpage_47.png\u001b[0m\r\n"
     ]
    }
   ],
   "source": [
    "ls data/1"
   ]
  },
  {
   "cell_type": "code",
   "execution_count": 23,
   "metadata": {},
   "outputs": [],
   "source": [
    "regexes = {\n",
    "    'Name': \"(?<=Name)(.*)\",\n",
    "    'Relative': \"(Father|Mother|Husband)\\\\\\'s.*?Name.*?:(.*)\",\n",
    "    'Age': \"Age:\\s([0-9]+)\",\n",
    "    'Sex': \"Sex:\\s(MALE|FEMALE|THIRD GENDER)\"\n",
    "}\n",
    "compiled_regexes = {k:re.compile(v) for k,v in regexes.items()}\n",
    "\n",
    "row_sizes = {\n",
    "    'row_height': 290,\n",
    "    'box_width': 752,\n",
    "}\n",
    "def get_string_from_row(row):\n",
    "    '''Takes in a single row (Image Object), gets 3 text strings out'''\n",
    "    box_width = row_sizes['box_width']\n",
    "    \n",
    "    return [pytesseract.image_to_string(row.crop((i * box_width, 0 ,(i + 1) * box_width, row.size[1]))) \n",
    "            for i in range(3)]\n",
    "\n",
    "def get_first_offsets(width, height):\n",
    "    # First page offsets\n",
    "    return {\n",
    "    #     'name and reservation status of parliamentary constituencies': (0, 300, width, 450),\n",
    "        'Sections': (0, 1060, width/2-200, 1800), # Sections in PDF\n",
    "        'Details': (width/2+200,1060, width, 1800), # town,ward,police,tehsil,district,pin\n",
    "        'Polling Station':(0,2000, width/2+50, height-1050), # no and name of polling station\n",
    "        'Voters': (width/6+500,height-950,width, height-800)\n",
    "    }\n",
    "        \n",
    "def get_voter_offsets(width, height):\n",
    "    return {\n",
    "        'header': (0,0,width, 200),\n",
    "        'rows': (101, 210, width-120, height-370), # As close to row lines as possible\n",
    "    }\n",
    "\n",
    "def handle_sheet(filename):\n",
    "    '''Takes a filename and returns a list of strings inside it'''\n",
    "    image = Image.open(filename)\n",
    "    width, height = image.size\n",
    "    if os.path.basename(filename) == 'page_1.png':\n",
    "        return {\n",
    "            k : pytesseract.image_to_string(image.crop(v)) for k,v in get_first_offsets(width, height).items()\n",
    "        }\n",
    "    else:\n",
    "#         import pdb; pdb.set_trace()\n",
    "        header, all_rows = (image.crop(v) for k, v in get_voter_offsets(width, height).items())\n",
    "        rows = [all_rows.crop((0, i * row_sizes['row_height'], all_rows.size[0], (i+1) * row_sizes['row_height'])) for i in range(10)] \n",
    "        strings = [get_string_from_row(row) for row in rows]\n",
    "        all_strings = [item for sublist in strings for item in sublist]\n",
    "        regexes = [[regex.search(string_)[0] if regex.search(string_) else None for regex in compiled_regexes.values()] for string_ in all_strings]\n",
    "        return{\n",
    "            'Header': pytesseract.image_to_string(header),\n",
    "#             'Footer': pytesseract.image_to_string(image.crop(footer_box)),\n",
    "#             'Rows': rows,\n",
    "            'Strings': strings,\n",
    "            \"Regexes\": regexes\n",
    "        }"
   ]
  },
  {
   "cell_type": "code",
   "execution_count": 24,
   "metadata": {},
   "outputs": [
    {
     "data": {
      "text/plain": [
       "{'Header': 'Assembly Constituency No and Name: 15-SHAKUR BASTI Part No.- : 42\\n\\nSection No and Name : 1-BLOCK BG-6,PASCHIM VIHAR',\n",
       " 'Strings': [[\"ACB1721132\\n\\n \\n\\nName: VINAY SHARMA\\n\\nFather's Name : KANHAIYALAL\\nSHARMA Photo is\\nHouse Number: 163C Available\\nAge: 40 Sex: MALE\",\n",
       "   \"ACB1756096\\n\\n \\n\\nName: PUNEET KAUR\\n\\nHusband's Name : GURDEEP SINGH\\nHouse Number: 208A\\n\\nAge: 30 Sex: FEMALE\\n\\nPhoto is\\n\\nAvailable\",\n",
       "   \"ACB1813013\\n\\n \\n\\nName: yashika khandelwal\\nFather's Name: sanjay khandelwal\\nHouse Number: 216-B\\n\\nAge: 19 Sex: FEMALE\\n\\nPhoto is\\n\\nAvailable\"],\n",
       "  [\"Name : CHANDER SHEKHAR\\nFather's Name : NIHAL SINGH\\nHouse Number : 220-C\\nAge: 37 Sex: MALE\\n\\nACB1705565\\n\\nPhoto is\\n\\nAvailable\",\n",
       "   \"Name : HITESH ANAND\\nFather's Name: RAJIV ANAND\\nHouse Number : 223-B\\n\\nAge: 22 Sex: MALE\\n\\nACB1776533\\n\\nPhoto is\\n\\nAvailable\",\n",
       "   \"ACB1740983\\nName: RAMA BATRA\\n\\nHusband's Name : SHYAM SUNDER\\nBATRA Photo is\\nHouse Number : 226C\\nAge: 56 Sex: FEMALE\\n\\nAvailable\"],\n",
       "  [\"ACB1713220\\nName: NEHA GUPTA\\n\\nFather's Name: RAJNATH GUPTA\\nHouse Number: 228-A\\n\\nAge: 24 Sex: FEMALE\\n\\nPhoto is\\n\\nAvailable\",\n",
       "   \"ACB1715754\\nName: PARTH GAIROLA\\n\\nFather's Name : ANANT PRAKASH\\nGAIROLA Photo is\\nHouse Number: 233-D\\nAge: 23 Sex: MALE\\n\\nAvailable\",\n",
       "   \"ACB1713949\\nName: SUKHDA\\n\\nHusband's Name : pritam khemani\\nHouse Number: 239-B\\n\\nAge: 61 Sex: FEMALE\\n\\nPhoto is\\n\\nAvailable\"],\n",
       "  [\"Name: KAPIL KHEMANI\\nFather's Name: pritam khemani\\nHouse Number : 239-B\\n\\nAge: 28 Sex: MALE\\n\\n$ZM1492875\\n\\nPhoto is\\n\\nAvailable\",\n",
       "   \"Name : CHETAN KHEMANI\\nFather's Name: pritam khemani\\nHouse Number : 239-B\\n\\nAge: 25 Sex: MALE\\n\\n$ZM1818722\\n\\nPhoto is\\n\\nAvailable\",\n",
       "   \"Name: OM PRAKASH\\nFather's Name : SHOBHA RAM\\nHouse Number: 252-A\\nAge: 62 Sex: MALE\\n\\nACB1783000\\n\\nPhoto is\\n\\nAvailable\"],\n",
       "  [\"ACB1795442\\n\\n \\n\\n \\n\\nName : ANJANA\\n\\nHusband's Name : RAKESH TANEJA\\nHouse Number : 260-A\\n\\nAge: 46 Sex: FEMALE\\n\\nPhoto is\\nAvailable\",\n",
       "   \"ACB1795467\\n\\n \\n\\n \\n\\nName : RAKESH TANEJA\\nFather's Name : TEK CHAND\\nHouse Number : 260-A\\n\\nAge: 44 Sex: MALE\\n\\nPhoto is\\nAvailable\",\n",
       "   \"ACB1795608\\n\\n \\n\\n \\n\\nName: RHYTHM\\n\\nFather's Name : RAKESH TANEJA\\nHouse Number: 260-A\\n\\nAge: 20 Sex: FEMALE\\n\\nPhoto is\\nAvailable\"],\n",
       "  [\"ACB1715473\\nName: HIMANI NENWANI\\n\\nMother's Name : KRISHNA NENWANI\\nHouse Number: 264-C Photo is\\nAge: 24 Sex: FEMALE\\n\\nAvailable\",\n",
       "   \"ACB1605088\\nName: AJAY VARMANI\\n\\nFather's Name: KALIDAS VARMANI\\nHouse Number: 265-C Photo is\\nAge: 60 Sex: MALE\\n\\nAvailable\",\n",
       "   \"ACB1740976\\nName: JATIN BATRA\\n\\nFather's Name: SHYAM SUNDER\\nBATRA Photo is\\nHouse Number: 266C\\nAge: 38 Sex: MALE\\n\\nAvailable\"],\n",
       "  [\"ACB1586262\\nName: SANCHIT MAHAJAN\\nFather's Name: S K MAHAJAN\\nHouse Number: 270/C\\nAge: 25 Sex: MALE\\n\\nPhoto is\\nAvailable\",\n",
       "   \"NCR1267996\\nName: KAUSHLYA SHARDA\\nHusband's Name: DILIP KUMAR\\nHouse Number: 277-A\\nAge: 48 Sex: FEMALE\\n\\nPhoto is\\nAvailable\",\n",
       "   \"Name: UTTAM\\n\\nMother's Name : SUDHA DEVI\\nHouse Number: 278-D\\n\\nAge: 28 Sex: MALE\\n\\nACB1409209\\n\\n \\n\\nPhoto is\\nAvailable\"],\n",
       "  [\"Ah\\n\\n \\n\\n \\n\\n \\n\\nName: SHAIFALI\\n\\nHusband's Name : KAMAL CHAUHAN\\nHouse Number : 292A\\n\\nAge: 29 Sex: FEMALE\\n\\nACB1665751\\n\\nPhoto is\\n\\nAvailable\",\n",
       "   \"———\\n\\n \\n\\n \\n\\n \\n\\nACB1697621\\nName : MAHNAZ KHAN\\nHusband's Name : SAIFUDDIN\\nSIDDIQUE Photo is\\nHouse Number: 292-B\\nAge: 46 Sex: FEMALE\\n\\nAvailable\",\n",
       "   \"———\\n\\n \\n\\n \\n\\n \\n\\nACB1697614\\nName: AZIZ SIDDIQUE\\n\\nFather's Name : SAIFUDDIN\\nSIDDIQUE Photo is\\nHouse Number: 292-B\\nAge: 28 Sex: MALE\\n\\nAvailable\"],\n",
       "  [\"ACB1665769\\n\\n \\n\\nName: SAHIL KUMAR\\n\\nFather's Name: SATISH KUMAR\\nHouse Number: 293-B\\n\\nAge: 25 Sex: MALE\\n\\nPhoto is\\nAvailable\",\n",
       "   \"UWJ0067090\\n\\n \\n\\nName: GUNJAN ARORA\\nHusband's Name : KAMAL ARORA\\nHouse Number: 296C\\n\\nAge: 30 Sex: FEMALE\\n\\nPhoto is\\n\\nAvailable\",\n",
       "   \"NEL1499011\\n\\n \\n\\nName: ROOPA SHARMA\\nHusband's Name: VIVEK SHARMA\\nHouse Number: 297-B\\n\\nAge: 34 Sex: FEMALE\\n\\nPhoto is\\n\\nAvailable\"],\n",
       "  [\"{____ tq}\\n\\n \\n\\n \\n\\nACB1520857\\n\\n \\n\\nName: REKHA BISHT\\nHusband's Name: ARVIND BISHT\\nHouse Number: 297-C\\n\\nAge: 33 Sex: FEMALE\\n\\nPhoto is\\n\\nAvailable\",\n",
       "   \"{____tmq_q\\n\\n \\n\\n \\n\\nJBJ0791418\\n\\n \\n\\nName: RAJNI ARORA\\nHusband's Name: RAJ KUMAR\\nHouse Number: 300-B\\n\\nAge: 50 Sex: FEMALE\\n\\nPhoto is\\n\\nAvailable\",\n",
       "   \"{____tmq_q\\n\\n \\n\\n \\n\\nJBJ1120831\\n\\n \\n\\nName: MONICA NEGI\\nHusband's Name: DALBIR SINGH\\nNEGI Photo is\\nHouse Number: 300-B\\nAge: 43 Sex: FEMALE\\n\\nAvailable\"]],\n",
       " 'Regexes': [[': VINAY SHARMA',\n",
       "   \"Father's Name : KANHAIYALAL\",\n",
       "   'Age: 40',\n",
       "   'Sex: MALE'],\n",
       "  [': PUNEET KAUR',\n",
       "   \"Husband's Name : GURDEEP SINGH\",\n",
       "   'Age: 30',\n",
       "   'Sex: FEMALE'],\n",
       "  [': yashika khandelwal',\n",
       "   \"Father's Name: sanjay khandelwal\",\n",
       "   'Age: 19',\n",
       "   'Sex: FEMALE'],\n",
       "  [' : CHANDER SHEKHAR',\n",
       "   \"Father's Name : NIHAL SINGH\",\n",
       "   'Age: 37',\n",
       "   'Sex: MALE'],\n",
       "  [' : HITESH ANAND', \"Father's Name: RAJIV ANAND\", 'Age: 22', 'Sex: MALE'],\n",
       "  [': RAMA BATRA', \"Husband's Name : SHYAM SUNDER\", 'Age: 56', 'Sex: FEMALE'],\n",
       "  [': NEHA GUPTA', \"Father's Name: RAJNATH GUPTA\", 'Age: 24', 'Sex: FEMALE'],\n",
       "  [': PARTH GAIROLA', \"Father's Name : ANANT PRAKASH\", 'Age: 23', 'Sex: MALE'],\n",
       "  [': SUKHDA', \"Husband's Name : pritam khemani\", 'Age: 61', 'Sex: FEMALE'],\n",
       "  [': KAPIL KHEMANI', \"Father's Name: pritam khemani\", 'Age: 28', 'Sex: MALE'],\n",
       "  [' : CHETAN KHEMANI',\n",
       "   \"Father's Name: pritam khemani\",\n",
       "   'Age: 25',\n",
       "   'Sex: MALE'],\n",
       "  [': OM PRAKASH', \"Father's Name : SHOBHA RAM\", 'Age: 62', 'Sex: MALE'],\n",
       "  [' : ANJANA', \"Husband's Name : RAKESH TANEJA\", 'Age: 46', 'Sex: FEMALE'],\n",
       "  [' : RAKESH TANEJA', \"Father's Name : TEK CHAND\", 'Age: 44', 'Sex: MALE'],\n",
       "  [': RHYTHM', \"Father's Name : RAKESH TANEJA\", 'Age: 20', 'Sex: FEMALE'],\n",
       "  [': HIMANI NENWANI',\n",
       "   \"Mother's Name : KRISHNA NENWANI\",\n",
       "   'Age: 24',\n",
       "   'Sex: FEMALE'],\n",
       "  [': AJAY VARMANI', \"Father's Name: KALIDAS VARMANI\", 'Age: 60', 'Sex: MALE'],\n",
       "  [': JATIN BATRA', \"Father's Name: SHYAM SUNDER\", 'Age: 38', 'Sex: MALE'],\n",
       "  [': SANCHIT MAHAJAN', \"Father's Name: S K MAHAJAN\", 'Age: 25', 'Sex: MALE'],\n",
       "  [': KAUSHLYA SHARDA',\n",
       "   \"Husband's Name: DILIP KUMAR\",\n",
       "   'Age: 48',\n",
       "   'Sex: FEMALE'],\n",
       "  [': UTTAM', \"Mother's Name : SUDHA DEVI\", 'Age: 28', 'Sex: MALE'],\n",
       "  [': SHAIFALI', \"Husband's Name : KAMAL CHAUHAN\", 'Age: 29', 'Sex: FEMALE'],\n",
       "  [' : MAHNAZ KHAN', \"Husband's Name : SAIFUDDIN\", 'Age: 46', 'Sex: FEMALE'],\n",
       "  [': AZIZ SIDDIQUE', \"Father's Name : SAIFUDDIN\", 'Age: 28', 'Sex: MALE'],\n",
       "  [': SAHIL KUMAR', \"Father's Name: SATISH KUMAR\", 'Age: 25', 'Sex: MALE'],\n",
       "  [': GUNJAN ARORA', \"Husband's Name : KAMAL ARORA\", 'Age: 30', 'Sex: FEMALE'],\n",
       "  [': ROOPA SHARMA', \"Husband's Name: VIVEK SHARMA\", 'Age: 34', 'Sex: FEMALE'],\n",
       "  [': REKHA BISHT', \"Husband's Name: ARVIND BISHT\", 'Age: 33', 'Sex: FEMALE'],\n",
       "  [': RAJNI ARORA', \"Husband's Name: RAJ KUMAR\", 'Age: 50', 'Sex: FEMALE'],\n",
       "  [': MONICA NEGI', \"Husband's Name: DALBIR SINGH\", 'Age: 43', 'Sex: FEMALE']]}"
      ]
     },
     "execution_count": 24,
     "metadata": {},
     "output_type": "execute_result"
    }
   ],
   "source": [
    "handle_sheet('data/42/page_3.png')"
   ]
  },
  {
   "cell_type": "code",
   "execution_count": 251,
   "metadata": {},
   "outputs": [
    {
     "ename": "TypeError",
     "evalue": "int() argument must be a string, a bytes-like object or a number, not 're.Match'",
     "output_type": "error",
     "traceback": [
      "\u001b[0;31m---------------------------------------------------------------------------\u001b[0m",
      "\u001b[0;31mTypeError\u001b[0m                                 Traceback (most recent call last)",
      "\u001b[0;32m<ipython-input-251-2cb8a381fbaf>\u001b[0m in \u001b[0;36m<module>\u001b[0;34m\u001b[0m\n\u001b[1;32m      1\u001b[0m \u001b[0;34m'''This is a dumb, lazy approach'''\u001b[0m\u001b[0;34m\u001b[0m\u001b[0;34m\u001b[0m\u001b[0m\n\u001b[0;32m----> 2\u001b[0;31m \u001b[0mnum_files\u001b[0m \u001b[0;34m=\u001b[0m \u001b[0msorted\u001b[0m\u001b[0;34m(\u001b[0m\u001b[0;34m[\u001b[0m\u001b[0mint\u001b[0m\u001b[0;34m(\u001b[0m\u001b[0mre\u001b[0m\u001b[0;34m.\u001b[0m\u001b[0msearch\u001b[0m\u001b[0;34m(\u001b[0m\u001b[0;34m'[0-9]+'\u001b[0m\u001b[0;34m,\u001b[0m \u001b[0mfilename\u001b[0m\u001b[0;34m)\u001b[0m\u001b[0;34m)\u001b[0m \u001b[0;32mfor\u001b[0m \u001b[0mfilename\u001b[0m \u001b[0;32min\u001b[0m \u001b[0mglob\u001b[0m\u001b[0;34m.\u001b[0m\u001b[0mglob\u001b[0m\u001b[0;34m(\u001b[0m\u001b[0;34m'data/*/*.png'\u001b[0m\u001b[0;34m)\u001b[0m\u001b[0;34m]\u001b[0m\u001b[0;34m)\u001b[0m\u001b[0;34m;\u001b[0m\u001b[0;34m\u001b[0m\u001b[0;34m\u001b[0m\u001b[0m\n\u001b[0m\u001b[1;32m      3\u001b[0m \u001b[0mnum_files\u001b[0m\u001b[0;34m\u001b[0m\u001b[0;34m\u001b[0m\u001b[0m\n\u001b[1;32m      4\u001b[0m \u001b[0;31m# for file in usable_files:\u001b[0m\u001b[0;34m\u001b[0m\u001b[0;34m\u001b[0m\u001b[0;34m\u001b[0m\u001b[0m\n\u001b[1;32m      5\u001b[0m \u001b[0;31m#     with open(file+'.json', 'w') as f:\u001b[0m\u001b[0;34m\u001b[0m\u001b[0;34m\u001b[0m\u001b[0;34m\u001b[0m\u001b[0m\n",
      "\u001b[0;32m<ipython-input-251-2cb8a381fbaf>\u001b[0m in \u001b[0;36m<listcomp>\u001b[0;34m(.0)\u001b[0m\n\u001b[1;32m      1\u001b[0m \u001b[0;34m'''This is a dumb, lazy approach'''\u001b[0m\u001b[0;34m\u001b[0m\u001b[0;34m\u001b[0m\u001b[0m\n\u001b[0;32m----> 2\u001b[0;31m \u001b[0mnum_files\u001b[0m \u001b[0;34m=\u001b[0m \u001b[0msorted\u001b[0m\u001b[0;34m(\u001b[0m\u001b[0;34m[\u001b[0m\u001b[0mint\u001b[0m\u001b[0;34m(\u001b[0m\u001b[0mre\u001b[0m\u001b[0;34m.\u001b[0m\u001b[0msearch\u001b[0m\u001b[0;34m(\u001b[0m\u001b[0;34m'[0-9]+'\u001b[0m\u001b[0;34m,\u001b[0m \u001b[0mfilename\u001b[0m\u001b[0;34m)\u001b[0m\u001b[0;34m)\u001b[0m \u001b[0;32mfor\u001b[0m \u001b[0mfilename\u001b[0m \u001b[0;32min\u001b[0m \u001b[0mglob\u001b[0m\u001b[0;34m.\u001b[0m\u001b[0mglob\u001b[0m\u001b[0;34m(\u001b[0m\u001b[0;34m'data/*/*.png'\u001b[0m\u001b[0;34m)\u001b[0m\u001b[0;34m]\u001b[0m\u001b[0;34m)\u001b[0m\u001b[0;34m;\u001b[0m\u001b[0;34m\u001b[0m\u001b[0;34m\u001b[0m\u001b[0m\n\u001b[0m\u001b[1;32m      3\u001b[0m \u001b[0mnum_files\u001b[0m\u001b[0;34m\u001b[0m\u001b[0;34m\u001b[0m\u001b[0m\n\u001b[1;32m      4\u001b[0m \u001b[0;31m# for file in usable_files:\u001b[0m\u001b[0;34m\u001b[0m\u001b[0;34m\u001b[0m\u001b[0;34m\u001b[0m\u001b[0m\n\u001b[1;32m      5\u001b[0m \u001b[0;31m#     with open(file+'.json', 'w') as f:\u001b[0m\u001b[0;34m\u001b[0m\u001b[0;34m\u001b[0m\u001b[0;34m\u001b[0m\u001b[0m\n",
      "\u001b[0;31mTypeError\u001b[0m: int() argument must be a string, a bytes-like object or a number, not 're.Match'"
     ]
    }
   ],
   "source": [
    "'''This is a dumb, lazy approach'''\n",
    "num_files = sorted([int(re.search('[0-9]+', filename)[0]) for filename in glob.glob('data/*/*.png')]);\n",
    "num_files\n",
    "# for file in usable_files:\n",
    "#     with open(file+'.json', 'w') as f:\n",
    "#         json.dump(handle_sheet(file), f)"
   ]
  },
  {
   "cell_type": "code",
   "execution_count": 106,
   "metadata": {},
   "outputs": [],
   "source": [
    "num_files = sorted([int(re.search('[0-9]+', filename)[0]) for filename in glob.glob('./*.json')])\n",
    "dataframes = []\n",
    "for file in num_files:\n",
    "    with open(f'./page_{file}.png.json') as f:\n",
    "        x = json.load(f)\n",
    "        dataframes += [pd.DataFrame(x['Regexes'])]"
   ]
  },
  {
   "cell_type": "code",
   "execution_count": 15,
   "metadata": {},
   "outputs": [],
   "source": [
    "df = pd.concat(dataframes).dropna(how='all')\n",
    "df.columns = ['Name', 'Relative', 'Age', 'Sex']\n",
    "df['Name'] = df['Name'].apply(lambda x: x.split(':')[-1].strip() if isinstance(x, str) else None)\n",
    "df['Age'] = df['Age'].apply(lambda x: x.split(':')[-1].strip() if isinstance(x, str) else None)\n",
    "df['Sex'] = df['Sex'].apply(lambda x: x.split(':')[-1].strip() if isinstance(x, str) else None)\n"
   ]
  },
  {
   "cell_type": "code",
   "execution_count": 17,
   "metadata": {},
   "outputs": [],
   "source": [
    "df.to_csv('./first_pdf.csv', index=None)"
   ]
  },
  {
   "cell_type": "code",
   "execution_count": 6,
   "metadata": {},
   "outputs": [],
   "source": [
    "import glob\n",
    "import json\n",
    "import pandas as pd\n"
   ]
  },
  {
   "cell_type": "code",
   "execution_count": 5,
   "metadata": {},
   "outputs": [],
   "source": [
    "def get_json(filename):\n",
    "    with open(filename) as file:\n",
    "        return json.load(file)"
   ]
  },
  {
   "cell_type": "code",
   "execution_count": 24,
   "metadata": {},
   "outputs": [],
   "source": [
    "sheets = [(get_json(filename), filename) for filename in glob.glob('./data/*/*.json') if os.path.basename(filename)!= 'page_1.png.json']"
   ]
  },
  {
   "cell_type": "code",
   "execution_count": 25,
   "metadata": {},
   "outputs": [
    {
     "data": {
      "text/plain": [
       "({'Header': 'Assembly Constituency No and Name: 15-SHAKUR BASTI Part No.- : 111\\n\\nSection No and Name : 1-HARI SINGH PARK,NEW MULTAN NAGAR\\n\\n \\n\\n \\n\\n \\n\\nBAW APmnocagca BAD mian van vococn BAD APmnAorATOC',\n",
       "  'Strings': [[\"Name: DEEPAK\\n\\nFather's Name: KEWAL KRISHAN\\nHouse Number: 87\\n\\nPhoto is\\nAge: 45 Sex: MALE\\n\\nAvailable\\n\\n \\n\\n \\n\\n \\n\\nToa]\\n\\nACRBNSK6ATO2R\",\n",
       "    \"Name: REENA\\n\\nHusband's Name : DEEPAK\\nHouse Number: 87 Photo is\\nAge: 40 Sex: FEMALE\\n\\nAvailable\\n\\n \\n\\n \\n\\n \\n\\n545 ACRNS6AaNN\",\n",
       "    \"Name: SURJEET SINGH\\n\\nFather's Name : GURCHARAN SINGH\\nHouse Number: 88\\n\\nPhoto is\\nAge: 76 Sex: MALE\\n\\nAvailable\\n\\n \\n\\n \\n\\n \\n\\n546 ACRNS6A210\"],\n",
       "   [\"| el\\n\\nName : SURENDER KAUR\\nHusband's Name: SURJEET SINGH\\nHouse Number: 88\\n\\nAge: 74 Sex: FEMALE\\n\\nPhoto is\\nAvailable\\n\\nAMrDRDNHORAQNT\",\n",
       "    \"| El\\n\\nName : SURESH CHANDER\\nFather's Name : TOTARAM\\nHouse Number: 88\\n\\nAge: 68 Sex: MALE\\n\\nPhoto is\\nAvailable\\n\\nAPrR4A2ADOONCT\",\n",
       "    \"| el\\n\\nName: RASHMI\\nHusband's Name: SURESH\\nCHANDER Photo is\\nHouse Number: 88\\nAge: 64 Sex: FEMALE\\n\\nAvailable\\n\\nACPCRNORAQAD\"],\n",
       "   [\"or re\\n\\nel\\nName: ANIL KUMAR\\nFather's Name : SURESH CHANDER\\nHouse Number: 88 Photo is\\nAge: 44 Sex: MALE\\n\\nAvailable\\n\\n \\n\\n \\n\\n \\n\\nBan ArDnocszo0ca\",\n",
       "    \"oes re\\n\\nel\\nName: ANUP KUMAR\\nFather's Name: SURESH CHAND\\nHouse Number: 88 Photo is\\nAge: 43 Sex: MALE\\n\\nAvailable\\n\\n \\n\\n \\n\\n \\n\\nBa4 ArDnoc«szo7c\",\n",
       "    \"Fr es\\n\\nel\\nName: KAJAL MAHESHWARI\\nHusband's Name : ANUP KUMAR\\nMAHESHWARI Photo is\\nHouse Number: 8&8\\n\\nAge: 37 Sex: FEMALE\\n\\nAvailable\\n\\n \\n\\n \\n\\n \\n\\n \\n\\nArDNnOCcAOOA\"],\n",
       "   [\"Name: SONAL\\n\\nHusband's Name: ANIL KUMAR\\nHouse Number: 88A Photo is\\nAge: 37 Sex: FEMALE\\n\\nDacretliceetiteetiientiietititeiitendieetl\\n\\nAvailable\\n\\n  \\n\\n \\n\\n \\n\\n \\n\\nnmmaanwaaz\",\n",
       "    \"Name: BHAGAT SINGH\\n\\nFather's Name: AVTAR SINGH\\nHouse Number: 89\\n\\nPhoto is\\nAge: 63 Sex: MALE\\n\\nShee Tee\\n\\nAvailable\\n\\n  \\n\\n \\n\\n \\n\\n \\n\\nPIANn TAnNnAONnC\",\n",
       "    \"OS\\n\\nName: MAHESHWARI DEVI\\n\\nHusband's Name: BHAGAT SINGH\\nHouse Number: 89\\n\\nPhoto is\\nAge: 61 Sex: FEMALE\\n\\nhe TT\\n\\nAvailable\\n\\n  \\n\\n \\n\\n \\n\\nArmnMmacnonry5o\"],\n",
       "   [\"L a | POT 4 iit\\nName: LATA CHANDNA\\n\\nHusband's Name : YOGESH KUMAR\\nCHANDNA Photo is\\nHouse Number: 89\\n\\nAge: 42 Sex: FEMALE\\n\\nAvailable\",\n",
       "    \"L a | DVVVUSS Tos\\nName: NARENDER SINGH NEGI\\n\\nFather's Name : BHAGAT SINGH NEGI\\nHouse Number: 89 Photo is\\nAge: 35 Sex: MALE Available\",\n",
       "    \"t a | FAY D TYUOUVIO\\nName: SARITA NEGI\\n\\nHusband's Name : NARENDER SINGH\\nNEGI Photo is\\nHouse Number: 89 A Available\\nAge: 35 Sex: FEMALE\"],\n",
       "   [\"L ae | AL DUDS O92\\nName: KAMAL SINGH\\n\\nFather's Name : BHAGAT SINGH\\nHouse Number: 89A\\n\\nAge: 32 Sex: MALE\\n\\nPhoto is\\n\\nAvailable\",\n",
       "    \"L ee | ALDIQVODIS\\nName: SANGEETA NEGI\\n\\nFather's Name : BHAGAT SINGH NEGI\\nHouse Number: 89 A\\n\\nAge: 30 Sex: FEMALE\\n\\nPhoto is\\n\\nAvailable\",\n",
       "    \"l —_ I\\nName: KARAN NEGI\\nFather's Name : BHAGAT SINGH NEGI\\nHouse Number: 89 A Photo is\\nAge: 25 Sex: MALE\\n\\nALD IQUI090\\n\\nAvailable\"],\n",
       "   [\"—— AL DUODSIUU\\nName: RAJ KUMARI\\nHusband's Name : GANGA RAM\\nHouse Number: 89B Photo is\\n\\nAge: 68 Sex: FEMALE Available\",\n",
       "    \"we ALDBUSD4SI IO\\nName: YOGESH KUMAR\\n\\nFather's Name: GANGA RAM\\nHouse Number: 89B Photo is\\n\\nAge: 46 Sex: MALE Available\",\n",
       "    \"l —_] AL DBVUOD4SIZ0\\nName: DINESH KUMAR CHANDNA\\nFather's Name : GANGA RAM\\nCHANDNA Photo is\\nHouse Number: 89B\\nAge: 39 Sex: MALE\\n\\n \\n       \\n    \\n \\n \\n\\nAvailable\"],\n",
       "   [\"L =*} ACB116010535\\nName : REENA GUPTA\\n\\nHusband's Name : DINESH KUMAR\\nCHANDNA Photo is\\nHouse Number: 89-B\\nAge: 39 Sex: FEMALE\\n\\nAvailable\",\n",
       "    \"L _I} ACB 1906/94\\nName: JYOTI GARG\\n\\nMother's Name : REKHA GARG\\nHouse Number: 90\\n\\nAge: 25 Sex: FEMALE\\n\\nPhoto is\\nAvailable\",\n",
       "    \"L I} ACB1306016\\nName: PRASANN MALHOTRA\\n\\nFather's Name : RAVI MALHOTRA\\nHouse Number: 90A\\n\\nAge: 50 Sex: MALE\\n\\nPhoto is\\nAvailable\"],\n",
       "   [\"L 289] ACB1308824\\nName: SHALINI MALHOTRA\\nHusband's Name: PRASANN\\nMALHOTRA Photo is\\nHouse Number: 90A\\n\\nAge: 47 Sex: FEMALE\\n\\nAvailable\",\n",
       "    \"Joo\\n\\nName: PRATEEK MALHOTRA\\nFather's Name: PRASANN\\nMALHOTRA\\n\\nHouse Number: 90-A\\n\\nAge: 23 Sex: MALE\\n\\n \\n\\nACB16/8886\\n\\nPhoto is\\n\\nAvailable\",\n",
       "    \"l oy ACB1598134\\nName: SUNIL KUMAR SANGWAN\\nFather's Name : HARI SINGH\\n\\nSANGWAN Photo is\\nHouse Number: 91-SF\\nAge: 46 Sex: MALE\\n\\nAvailable\"],\n",
       "   [\"260\\n\\nName: SATWANTI SANGWAN\\nHusband's Name: SUNIL KUMAR\\nSANGWAN\\n\\nHouse Number: 91-SF\\n\\nAge: 45 Sex: FEMALE\\n\\nACB1598126\\n\\nPhoto is\\n\\nAvailable\",\n",
       "    \"abd\\n\\nName: ANKITA SANGWAN\\n\\nFather's Name: SUNIL KUMAR\\nSANGWAN\\n\\nHouse Number: 91-SF Available\\nAge: 25 Sex: FEMALE\\n\\nACB1599199\\n\\nPhoto is\",\n",
       "    \"aru\\n\\nName: ASHOK CHHIKARA\\n\\nFather's Name: RD CHHIKARA\\nHouse Number: 92\\n\\nAge: 54 Sex: MALE\\n\\nACB0864975\\n\\nPhoto is\\n\\nAvailable\"]],\n",
       "  'Regexes': [[': DEEPAK',\n",
       "    \"Father's Name: KEWAL KRISHAN\",\n",
       "    'Age: 45',\n",
       "    'Sex: MALE'],\n",
       "   [': REENA', \"Husband's Name : DEEPAK\", 'Age: 40', 'Sex: FEMALE'],\n",
       "   [': SURJEET SINGH',\n",
       "    \"Father's Name : GURCHARAN SINGH\",\n",
       "    'Age: 76',\n",
       "    'Sex: MALE'],\n",
       "   [' : SURENDER KAUR',\n",
       "    \"Husband's Name: SURJEET SINGH\",\n",
       "    'Age: 74',\n",
       "    'Sex: FEMALE'],\n",
       "   [' : SURESH CHANDER', \"Father's Name : TOTARAM\", 'Age: 68', 'Sex: MALE'],\n",
       "   [': RASHMI', \"Husband's Name: SURESH\", 'Age: 64', 'Sex: FEMALE'],\n",
       "   [': ANIL KUMAR', \"Father's Name : SURESH CHANDER\", 'Age: 44', 'Sex: MALE'],\n",
       "   [': ANUP KUMAR', \"Father's Name: SURESH CHAND\", 'Age: 43', 'Sex: MALE'],\n",
       "   [': KAJAL MAHESHWARI',\n",
       "    \"Husband's Name : ANUP KUMAR\",\n",
       "    'Age: 37',\n",
       "    'Sex: FEMALE'],\n",
       "   [': SONAL', \"Husband's Name: ANIL KUMAR\", 'Age: 37', 'Sex: FEMALE'],\n",
       "   [': BHAGAT SINGH', \"Father's Name: AVTAR SINGH\", 'Age: 63', 'Sex: MALE'],\n",
       "   [': MAHESHWARI DEVI',\n",
       "    \"Husband's Name: BHAGAT SINGH\",\n",
       "    'Age: 61',\n",
       "    'Sex: FEMALE'],\n",
       "   [': LATA CHANDNA',\n",
       "    \"Husband's Name : YOGESH KUMAR\",\n",
       "    'Age: 42',\n",
       "    'Sex: FEMALE'],\n",
       "   [': NARENDER SINGH NEGI',\n",
       "    \"Father's Name : BHAGAT SINGH NEGI\",\n",
       "    'Age: 35',\n",
       "    'Sex: MALE'],\n",
       "   [': SARITA NEGI',\n",
       "    \"Husband's Name : NARENDER SINGH\",\n",
       "    'Age: 35',\n",
       "    'Sex: FEMALE'],\n",
       "   [': KAMAL SINGH', \"Father's Name : BHAGAT SINGH\", 'Age: 32', 'Sex: MALE'],\n",
       "   [': SANGEETA NEGI',\n",
       "    \"Father's Name : BHAGAT SINGH NEGI\",\n",
       "    'Age: 30',\n",
       "    'Sex: FEMALE'],\n",
       "   [': KARAN NEGI',\n",
       "    \"Father's Name : BHAGAT SINGH NEGI\",\n",
       "    'Age: 25',\n",
       "    'Sex: MALE'],\n",
       "   [': RAJ KUMARI', \"Husband's Name : GANGA RAM\", 'Age: 68', 'Sex: FEMALE'],\n",
       "   [': YOGESH KUMAR', \"Father's Name: GANGA RAM\", 'Age: 46', 'Sex: MALE'],\n",
       "   [': DINESH KUMAR CHANDNA',\n",
       "    \"Father's Name : GANGA RAM\",\n",
       "    'Age: 39',\n",
       "    'Sex: MALE'],\n",
       "   [' : REENA GUPTA',\n",
       "    \"Husband's Name : DINESH KUMAR\",\n",
       "    'Age: 39',\n",
       "    'Sex: FEMALE'],\n",
       "   [': JYOTI GARG', \"Mother's Name : REKHA GARG\", 'Age: 25', 'Sex: FEMALE'],\n",
       "   [': PRASANN MALHOTRA',\n",
       "    \"Father's Name : RAVI MALHOTRA\",\n",
       "    'Age: 50',\n",
       "    'Sex: MALE'],\n",
       "   [': SHALINI MALHOTRA', \"Husband's Name: PRASANN\", 'Age: 47', 'Sex: FEMALE'],\n",
       "   [': PRATEEK MALHOTRA', \"Father's Name: PRASANN\", 'Age: 23', 'Sex: MALE'],\n",
       "   [': SUNIL KUMAR SANGWAN',\n",
       "    \"Father's Name : HARI SINGH\",\n",
       "    'Age: 46',\n",
       "    'Sex: MALE'],\n",
       "   [': SATWANTI SANGWAN',\n",
       "    \"Husband's Name: SUNIL KUMAR\",\n",
       "    'Age: 45',\n",
       "    'Sex: FEMALE'],\n",
       "   [': ANKITA SANGWAN',\n",
       "    \"Father's Name: SUNIL KUMAR\",\n",
       "    'Age: 25',\n",
       "    'Sex: FEMALE'],\n",
       "   [': ASHOK CHHIKARA',\n",
       "    \"Father's Name: RD CHHIKARA\",\n",
       "    'Age: 54',\n",
       "    'Sex: MALE']]},\n",
       " './data/111/page_21.png.json')"
      ]
     },
     "execution_count": 25,
     "metadata": {},
     "output_type": "execute_result"
    }
   ],
   "source": [
    "sheets[0]"
   ]
  },
  {
   "cell_type": "code",
   "execution_count": 23,
   "metadata": {},
   "outputs": [
    {
     "data": {
      "text/plain": [
       "5109"
      ]
     },
     "execution_count": 23,
     "metadata": {},
     "output_type": "execute_result"
    }
   ],
   "source": [
    "len(sheets)"
   ]
  },
  {
   "cell_type": "code",
   "execution_count": 26,
   "metadata": {},
   "outputs": [],
   "source": [
    "dataframes = []\n",
    "for sheet, name in sheets:\n",
    "    new_df = pd.DataFrame(sheet['Regexes'])\n",
    "    new_df['Section'] = sheet['Header']\n",
    "#     print(new_df.size, len(sheet['Strings']))\n",
    "    new_df['Strings'] = [item for sublist in sheet['Strings'] for item in sublist]\n",
    "    new_df['Sheet'] = name\n",
    "    dataframes += [new_df]\n",
    "    "
   ]
  },
  {
   "cell_type": "code",
   "execution_count": 27,
   "metadata": {},
   "outputs": [],
   "source": [
    "one_four_three = pd.concat(dataframes)"
   ]
  },
  {
   "cell_type": "code",
   "execution_count": 28,
   "metadata": {},
   "outputs": [
    {
     "data": {
      "text/html": [
       "<div>\n",
       "<style scoped>\n",
       "    .dataframe tbody tr th:only-of-type {\n",
       "        vertical-align: middle;\n",
       "    }\n",
       "\n",
       "    .dataframe tbody tr th {\n",
       "        vertical-align: top;\n",
       "    }\n",
       "\n",
       "    .dataframe thead th {\n",
       "        text-align: right;\n",
       "    }\n",
       "</style>\n",
       "<table border=\"1\" class=\"dataframe\">\n",
       "  <thead>\n",
       "    <tr style=\"text-align: right;\">\n",
       "      <th></th>\n",
       "      <th>0</th>\n",
       "      <th>1</th>\n",
       "      <th>2</th>\n",
       "      <th>3</th>\n",
       "      <th>Section</th>\n",
       "      <th>Strings</th>\n",
       "      <th>Sheet</th>\n",
       "    </tr>\n",
       "  </thead>\n",
       "  <tbody>\n",
       "    <tr>\n",
       "      <th>0</th>\n",
       "      <td>: DEEPAK</td>\n",
       "      <td>Father's Name: KEWAL KRISHAN</td>\n",
       "      <td>Age: 45</td>\n",
       "      <td>Sex: MALE</td>\n",
       "      <td>Assembly Constituency No and Name: 15-SHAKUR B...</td>\n",
       "      <td>Name: DEEPAK\\n\\nFather's Name: KEWAL KRISHAN\\n...</td>\n",
       "      <td>./data/111/page_21.png.json</td>\n",
       "    </tr>\n",
       "    <tr>\n",
       "      <th>1</th>\n",
       "      <td>: REENA</td>\n",
       "      <td>Husband's Name : DEEPAK</td>\n",
       "      <td>Age: 40</td>\n",
       "      <td>Sex: FEMALE</td>\n",
       "      <td>Assembly Constituency No and Name: 15-SHAKUR B...</td>\n",
       "      <td>Name: REENA\\n\\nHusband's Name : DEEPAK\\nHouse ...</td>\n",
       "      <td>./data/111/page_21.png.json</td>\n",
       "    </tr>\n",
       "    <tr>\n",
       "      <th>2</th>\n",
       "      <td>: SURJEET SINGH</td>\n",
       "      <td>Father's Name : GURCHARAN SINGH</td>\n",
       "      <td>Age: 76</td>\n",
       "      <td>Sex: MALE</td>\n",
       "      <td>Assembly Constituency No and Name: 15-SHAKUR B...</td>\n",
       "      <td>Name: SURJEET SINGH\\n\\nFather's Name : GURCHAR...</td>\n",
       "      <td>./data/111/page_21.png.json</td>\n",
       "    </tr>\n",
       "    <tr>\n",
       "      <th>3</th>\n",
       "      <td>: SURENDER KAUR</td>\n",
       "      <td>Husband's Name: SURJEET SINGH</td>\n",
       "      <td>Age: 74</td>\n",
       "      <td>Sex: FEMALE</td>\n",
       "      <td>Assembly Constituency No and Name: 15-SHAKUR B...</td>\n",
       "      <td>| el\\n\\nName : SURENDER KAUR\\nHusband's Name: ...</td>\n",
       "      <td>./data/111/page_21.png.json</td>\n",
       "    </tr>\n",
       "    <tr>\n",
       "      <th>4</th>\n",
       "      <td>: SURESH CHANDER</td>\n",
       "      <td>Father's Name : TOTARAM</td>\n",
       "      <td>Age: 68</td>\n",
       "      <td>Sex: MALE</td>\n",
       "      <td>Assembly Constituency No and Name: 15-SHAKUR B...</td>\n",
       "      <td>| El\\n\\nName : SURESH CHANDER\\nFather's Name :...</td>\n",
       "      <td>./data/111/page_21.png.json</td>\n",
       "    </tr>\n",
       "  </tbody>\n",
       "</table>\n",
       "</div>"
      ],
      "text/plain": [
       "                   0                                1        2            3  \\\n",
       "0           : DEEPAK     Father's Name: KEWAL KRISHAN  Age: 45    Sex: MALE   \n",
       "1            : REENA          Husband's Name : DEEPAK  Age: 40  Sex: FEMALE   \n",
       "2    : SURJEET SINGH  Father's Name : GURCHARAN SINGH  Age: 76    Sex: MALE   \n",
       "3    : SURENDER KAUR    Husband's Name: SURJEET SINGH  Age: 74  Sex: FEMALE   \n",
       "4   : SURESH CHANDER          Father's Name : TOTARAM  Age: 68    Sex: MALE   \n",
       "\n",
       "                                             Section  \\\n",
       "0  Assembly Constituency No and Name: 15-SHAKUR B...   \n",
       "1  Assembly Constituency No and Name: 15-SHAKUR B...   \n",
       "2  Assembly Constituency No and Name: 15-SHAKUR B...   \n",
       "3  Assembly Constituency No and Name: 15-SHAKUR B...   \n",
       "4  Assembly Constituency No and Name: 15-SHAKUR B...   \n",
       "\n",
       "                                             Strings  \\\n",
       "0  Name: DEEPAK\\n\\nFather's Name: KEWAL KRISHAN\\n...   \n",
       "1  Name: REENA\\n\\nHusband's Name : DEEPAK\\nHouse ...   \n",
       "2  Name: SURJEET SINGH\\n\\nFather's Name : GURCHAR...   \n",
       "3  | el\\n\\nName : SURENDER KAUR\\nHusband's Name: ...   \n",
       "4  | El\\n\\nName : SURESH CHANDER\\nFather's Name :...   \n",
       "\n",
       "                         Sheet  \n",
       "0  ./data/111/page_21.png.json  \n",
       "1  ./data/111/page_21.png.json  \n",
       "2  ./data/111/page_21.png.json  \n",
       "3  ./data/111/page_21.png.json  \n",
       "4  ./data/111/page_21.png.json  "
      ]
     },
     "execution_count": 28,
     "metadata": {},
     "output_type": "execute_result"
    }
   ],
   "source": [
    "one_four_three.head()"
   ]
  },
  {
   "cell_type": "code",
   "execution_count": 29,
   "metadata": {},
   "outputs": [
    {
     "data": {
      "text/plain": [
       "(148980, 7)"
      ]
     },
     "execution_count": 29,
     "metadata": {},
     "output_type": "execute_result"
    }
   ],
   "source": [
    "one_four_three.shape"
   ]
  },
  {
   "cell_type": "code",
   "execution_count": 30,
   "metadata": {},
   "outputs": [],
   "source": [
    "one_four_three.columns = ['Name', 'Relative', 'Age', 'Sex', 'Section', 'Raw String', 'Sheet']"
   ]
  },
  {
   "cell_type": "code",
   "execution_count": 31,
   "metadata": {},
   "outputs": [],
   "source": [
    "df = one_four_three"
   ]
  },
  {
   "cell_type": "code",
   "execution_count": 32,
   "metadata": {},
   "outputs": [],
   "source": [
    "df['Name'] = df['Name'].apply(lambda x: x.split(':')[-1].strip() if isinstance(x, str) else None)"
   ]
  },
  {
   "cell_type": "code",
   "execution_count": 33,
   "metadata": {},
   "outputs": [
    {
     "data": {
      "text/html": [
       "<div>\n",
       "<style scoped>\n",
       "    .dataframe tbody tr th:only-of-type {\n",
       "        vertical-align: middle;\n",
       "    }\n",
       "\n",
       "    .dataframe tbody tr th {\n",
       "        vertical-align: top;\n",
       "    }\n",
       "\n",
       "    .dataframe thead th {\n",
       "        text-align: right;\n",
       "    }\n",
       "</style>\n",
       "<table border=\"1\" class=\"dataframe\">\n",
       "  <thead>\n",
       "    <tr style=\"text-align: right;\">\n",
       "      <th></th>\n",
       "      <th>Name</th>\n",
       "      <th>Relative</th>\n",
       "      <th>Age</th>\n",
       "      <th>Sex</th>\n",
       "      <th>Section</th>\n",
       "      <th>Raw String</th>\n",
       "      <th>Sheet</th>\n",
       "    </tr>\n",
       "  </thead>\n",
       "  <tbody>\n",
       "    <tr>\n",
       "      <th>0</th>\n",
       "      <td>DEEPAK</td>\n",
       "      <td>Father's Name: KEWAL KRISHAN</td>\n",
       "      <td>Age: 45</td>\n",
       "      <td>Sex: MALE</td>\n",
       "      <td>Assembly Constituency No and Name: 15-SHAKUR B...</td>\n",
       "      <td>Name: DEEPAK\\n\\nFather's Name: KEWAL KRISHAN\\n...</td>\n",
       "      <td>./data/111/page_21.png.json</td>\n",
       "    </tr>\n",
       "    <tr>\n",
       "      <th>1</th>\n",
       "      <td>REENA</td>\n",
       "      <td>Husband's Name : DEEPAK</td>\n",
       "      <td>Age: 40</td>\n",
       "      <td>Sex: FEMALE</td>\n",
       "      <td>Assembly Constituency No and Name: 15-SHAKUR B...</td>\n",
       "      <td>Name: REENA\\n\\nHusband's Name : DEEPAK\\nHouse ...</td>\n",
       "      <td>./data/111/page_21.png.json</td>\n",
       "    </tr>\n",
       "    <tr>\n",
       "      <th>2</th>\n",
       "      <td>SURJEET SINGH</td>\n",
       "      <td>Father's Name : GURCHARAN SINGH</td>\n",
       "      <td>Age: 76</td>\n",
       "      <td>Sex: MALE</td>\n",
       "      <td>Assembly Constituency No and Name: 15-SHAKUR B...</td>\n",
       "      <td>Name: SURJEET SINGH\\n\\nFather's Name : GURCHAR...</td>\n",
       "      <td>./data/111/page_21.png.json</td>\n",
       "    </tr>\n",
       "    <tr>\n",
       "      <th>3</th>\n",
       "      <td>SURENDER KAUR</td>\n",
       "      <td>Husband's Name: SURJEET SINGH</td>\n",
       "      <td>Age: 74</td>\n",
       "      <td>Sex: FEMALE</td>\n",
       "      <td>Assembly Constituency No and Name: 15-SHAKUR B...</td>\n",
       "      <td>| el\\n\\nName : SURENDER KAUR\\nHusband's Name: ...</td>\n",
       "      <td>./data/111/page_21.png.json</td>\n",
       "    </tr>\n",
       "    <tr>\n",
       "      <th>4</th>\n",
       "      <td>SURESH CHANDER</td>\n",
       "      <td>Father's Name : TOTARAM</td>\n",
       "      <td>Age: 68</td>\n",
       "      <td>Sex: MALE</td>\n",
       "      <td>Assembly Constituency No and Name: 15-SHAKUR B...</td>\n",
       "      <td>| El\\n\\nName : SURESH CHANDER\\nFather's Name :...</td>\n",
       "      <td>./data/111/page_21.png.json</td>\n",
       "    </tr>\n",
       "  </tbody>\n",
       "</table>\n",
       "</div>"
      ],
      "text/plain": [
       "             Name                         Relative      Age          Sex  \\\n",
       "0          DEEPAK     Father's Name: KEWAL KRISHAN  Age: 45    Sex: MALE   \n",
       "1           REENA          Husband's Name : DEEPAK  Age: 40  Sex: FEMALE   \n",
       "2   SURJEET SINGH  Father's Name : GURCHARAN SINGH  Age: 76    Sex: MALE   \n",
       "3   SURENDER KAUR    Husband's Name: SURJEET SINGH  Age: 74  Sex: FEMALE   \n",
       "4  SURESH CHANDER          Father's Name : TOTARAM  Age: 68    Sex: MALE   \n",
       "\n",
       "                                             Section  \\\n",
       "0  Assembly Constituency No and Name: 15-SHAKUR B...   \n",
       "1  Assembly Constituency No and Name: 15-SHAKUR B...   \n",
       "2  Assembly Constituency No and Name: 15-SHAKUR B...   \n",
       "3  Assembly Constituency No and Name: 15-SHAKUR B...   \n",
       "4  Assembly Constituency No and Name: 15-SHAKUR B...   \n",
       "\n",
       "                                          Raw String  \\\n",
       "0  Name: DEEPAK\\n\\nFather's Name: KEWAL KRISHAN\\n...   \n",
       "1  Name: REENA\\n\\nHusband's Name : DEEPAK\\nHouse ...   \n",
       "2  Name: SURJEET SINGH\\n\\nFather's Name : GURCHAR...   \n",
       "3  | el\\n\\nName : SURENDER KAUR\\nHusband's Name: ...   \n",
       "4  | El\\n\\nName : SURESH CHANDER\\nFather's Name :...   \n",
       "\n",
       "                         Sheet  \n",
       "0  ./data/111/page_21.png.json  \n",
       "1  ./data/111/page_21.png.json  \n",
       "2  ./data/111/page_21.png.json  \n",
       "3  ./data/111/page_21.png.json  \n",
       "4  ./data/111/page_21.png.json  "
      ]
     },
     "execution_count": 33,
     "metadata": {},
     "output_type": "execute_result"
    }
   ],
   "source": [
    "df.head()"
   ]
  },
  {
   "cell_type": "code",
   "execution_count": 34,
   "metadata": {},
   "outputs": [],
   "source": [
    "df['Age'] = df['Age'].apply(lambda x: x.split(':')[-1].strip() if isinstance(x, str) else None)\n",
    "df['Sex'] = df['Sex'].apply(lambda x: x.split(':')[-1].strip() if isinstance(x, str) else None)\n"
   ]
  },
  {
   "cell_type": "code",
   "execution_count": 35,
   "metadata": {},
   "outputs": [
    {
     "data": {
      "text/html": [
       "<div>\n",
       "<style scoped>\n",
       "    .dataframe tbody tr th:only-of-type {\n",
       "        vertical-align: middle;\n",
       "    }\n",
       "\n",
       "    .dataframe tbody tr th {\n",
       "        vertical-align: top;\n",
       "    }\n",
       "\n",
       "    .dataframe thead th {\n",
       "        text-align: right;\n",
       "    }\n",
       "</style>\n",
       "<table border=\"1\" class=\"dataframe\">\n",
       "  <thead>\n",
       "    <tr style=\"text-align: right;\">\n",
       "      <th></th>\n",
       "      <th>Name</th>\n",
       "      <th>Relative</th>\n",
       "      <th>Age</th>\n",
       "      <th>Sex</th>\n",
       "      <th>Section</th>\n",
       "      <th>Raw String</th>\n",
       "      <th>Sheet</th>\n",
       "    </tr>\n",
       "  </thead>\n",
       "  <tbody>\n",
       "    <tr>\n",
       "      <th>0</th>\n",
       "      <td>DEEPAK</td>\n",
       "      <td>Father's Name: KEWAL KRISHAN</td>\n",
       "      <td>45</td>\n",
       "      <td>MALE</td>\n",
       "      <td>Assembly Constituency No and Name: 15-SHAKUR B...</td>\n",
       "      <td>Name: DEEPAK\\n\\nFather's Name: KEWAL KRISHAN\\n...</td>\n",
       "      <td>./data/111/page_21.png.json</td>\n",
       "    </tr>\n",
       "    <tr>\n",
       "      <th>1</th>\n",
       "      <td>REENA</td>\n",
       "      <td>Husband's Name : DEEPAK</td>\n",
       "      <td>40</td>\n",
       "      <td>FEMALE</td>\n",
       "      <td>Assembly Constituency No and Name: 15-SHAKUR B...</td>\n",
       "      <td>Name: REENA\\n\\nHusband's Name : DEEPAK\\nHouse ...</td>\n",
       "      <td>./data/111/page_21.png.json</td>\n",
       "    </tr>\n",
       "    <tr>\n",
       "      <th>2</th>\n",
       "      <td>SURJEET SINGH</td>\n",
       "      <td>Father's Name : GURCHARAN SINGH</td>\n",
       "      <td>76</td>\n",
       "      <td>MALE</td>\n",
       "      <td>Assembly Constituency No and Name: 15-SHAKUR B...</td>\n",
       "      <td>Name: SURJEET SINGH\\n\\nFather's Name : GURCHAR...</td>\n",
       "      <td>./data/111/page_21.png.json</td>\n",
       "    </tr>\n",
       "    <tr>\n",
       "      <th>3</th>\n",
       "      <td>SURENDER KAUR</td>\n",
       "      <td>Husband's Name: SURJEET SINGH</td>\n",
       "      <td>74</td>\n",
       "      <td>FEMALE</td>\n",
       "      <td>Assembly Constituency No and Name: 15-SHAKUR B...</td>\n",
       "      <td>| el\\n\\nName : SURENDER KAUR\\nHusband's Name: ...</td>\n",
       "      <td>./data/111/page_21.png.json</td>\n",
       "    </tr>\n",
       "    <tr>\n",
       "      <th>4</th>\n",
       "      <td>SURESH CHANDER</td>\n",
       "      <td>Father's Name : TOTARAM</td>\n",
       "      <td>68</td>\n",
       "      <td>MALE</td>\n",
       "      <td>Assembly Constituency No and Name: 15-SHAKUR B...</td>\n",
       "      <td>| El\\n\\nName : SURESH CHANDER\\nFather's Name :...</td>\n",
       "      <td>./data/111/page_21.png.json</td>\n",
       "    </tr>\n",
       "  </tbody>\n",
       "</table>\n",
       "</div>"
      ],
      "text/plain": [
       "             Name                         Relative Age     Sex  \\\n",
       "0          DEEPAK     Father's Name: KEWAL KRISHAN  45    MALE   \n",
       "1           REENA          Husband's Name : DEEPAK  40  FEMALE   \n",
       "2   SURJEET SINGH  Father's Name : GURCHARAN SINGH  76    MALE   \n",
       "3   SURENDER KAUR    Husband's Name: SURJEET SINGH  74  FEMALE   \n",
       "4  SURESH CHANDER          Father's Name : TOTARAM  68    MALE   \n",
       "\n",
       "                                             Section  \\\n",
       "0  Assembly Constituency No and Name: 15-SHAKUR B...   \n",
       "1  Assembly Constituency No and Name: 15-SHAKUR B...   \n",
       "2  Assembly Constituency No and Name: 15-SHAKUR B...   \n",
       "3  Assembly Constituency No and Name: 15-SHAKUR B...   \n",
       "4  Assembly Constituency No and Name: 15-SHAKUR B...   \n",
       "\n",
       "                                          Raw String  \\\n",
       "0  Name: DEEPAK\\n\\nFather's Name: KEWAL KRISHAN\\n...   \n",
       "1  Name: REENA\\n\\nHusband's Name : DEEPAK\\nHouse ...   \n",
       "2  Name: SURJEET SINGH\\n\\nFather's Name : GURCHAR...   \n",
       "3  | el\\n\\nName : SURENDER KAUR\\nHusband's Name: ...   \n",
       "4  | El\\n\\nName : SURESH CHANDER\\nFather's Name :...   \n",
       "\n",
       "                         Sheet  \n",
       "0  ./data/111/page_21.png.json  \n",
       "1  ./data/111/page_21.png.json  \n",
       "2  ./data/111/page_21.png.json  \n",
       "3  ./data/111/page_21.png.json  \n",
       "4  ./data/111/page_21.png.json  "
      ]
     },
     "execution_count": 35,
     "metadata": {},
     "output_type": "execute_result"
    }
   ],
   "source": [
    "df.head()"
   ]
  },
  {
   "cell_type": "code",
   "execution_count": 36,
   "metadata": {},
   "outputs": [],
   "source": [
    "df['Relative_']=df['Relative'].apply(lambda x: x.split(':')[0] if isinstance(x, str)else None)\n",
    "df['Relative Name']=df['Relative'].apply(lambda x: x.split(':')[1] if isinstance(x, str)else None)"
   ]
  },
  {
   "cell_type": "code",
   "execution_count": 37,
   "metadata": {},
   "outputs": [],
   "source": [
    "df.drop('Relative', axis=1, inplace=True)"
   ]
  },
  {
   "cell_type": "code",
   "execution_count": 38,
   "metadata": {},
   "outputs": [],
   "source": [
    "df = df.rename(columns={'Relative_': 'Relative'})"
   ]
  },
  {
   "cell_type": "code",
   "execution_count": 39,
   "metadata": {},
   "outputs": [],
   "source": [
    "df['Section'] = df['Section'].apply(lambda x: x.split(':')[-1] if isinstance(x, str) else None)"
   ]
  },
  {
   "cell_type": "code",
   "execution_count": 40,
   "metadata": {},
   "outputs": [
    {
     "name": "stdout",
     "output_type": "stream",
     "text": [
      "<class 'pandas.core.frame.DataFrame'>\n",
      "Int64Index: 148980 entries, 0 to 29\n",
      "Data columns (total 8 columns):\n",
      "Name             143298 non-null object\n",
      "Age              142789 non-null object\n",
      "Sex              143137 non-null object\n",
      "Section          148980 non-null object\n",
      "Raw String       148980 non-null object\n",
      "Sheet            148980 non-null object\n",
      "Relative         143095 non-null object\n",
      "Relative Name    143095 non-null object\n",
      "dtypes: object(8)\n",
      "memory usage: 10.2+ MB\n"
     ]
    }
   ],
   "source": [
    "df.info()"
   ]
  },
  {
   "cell_type": "code",
   "execution_count": 45,
   "metadata": {},
   "outputs": [],
   "source": [
    "import re\n",
    "\n",
    "df['Voter ID'] = df['Raw String'].apply(lambda x: re.search('([A-Z,0-9])+', x.split('Name')[0]))"
   ]
  },
  {
   "cell_type": "code",
   "execution_count": 48,
   "metadata": {},
   "outputs": [],
   "source": [
    "df['Voter Id'] = df['Voter ID'].apply(lambda x: x[0] if x else None)"
   ]
  },
  {
   "cell_type": "code",
   "execution_count": 49,
   "metadata": {},
   "outputs": [
    {
     "name": "stdout",
     "output_type": "stream",
     "text": [
      "<class 'pandas.core.frame.DataFrame'>\n",
      "Int64Index: 148980 entries, 0 to 29\n",
      "Data columns (total 10 columns):\n",
      "Name             143298 non-null object\n",
      "Age              142789 non-null object\n",
      "Sex              143137 non-null object\n",
      "Section          148980 non-null object\n",
      "Raw String       148980 non-null object\n",
      "Sheet            148980 non-null object\n",
      "Relative         143095 non-null object\n",
      "Relative Name    143095 non-null object\n",
      "Voter ID         101458 non-null object\n",
      "Voter Id         101458 non-null object\n",
      "dtypes: object(10)\n",
      "memory usage: 12.5+ MB\n"
     ]
    }
   ],
   "source": [
    "df.info()"
   ]
  },
  {
   "cell_type": "code",
   "execution_count": 51,
   "metadata": {},
   "outputs": [],
   "source": [
    "df.drop('Voter ID', inplace=True, axis=1)"
   ]
  },
  {
   "cell_type": "code",
   "execution_count": 56,
   "metadata": {},
   "outputs": [],
   "source": [
    "temp = df.dropna(thresh=6)"
   ]
  },
  {
   "cell_type": "code",
   "execution_count": 57,
   "metadata": {},
   "outputs": [
    {
     "name": "stdout",
     "output_type": "stream",
     "text": [
      "<class 'pandas.core.frame.DataFrame'>\n",
      "Int64Index: 143298 entries, 0 to 29\n",
      "Data columns (total 9 columns):\n",
      "Name             143298 non-null object\n",
      "Age              142789 non-null object\n",
      "Sex              143137 non-null object\n",
      "Section          143298 non-null object\n",
      "Raw String       143298 non-null object\n",
      "Sheet            143298 non-null object\n",
      "Relative         143095 non-null object\n",
      "Relative Name    143095 non-null object\n",
      "Voter Id         101458 non-null object\n",
      "dtypes: object(9)\n",
      "memory usage: 10.9+ MB\n"
     ]
    }
   ],
   "source": [
    "temp.info()"
   ]
  },
  {
   "cell_type": "code",
   "execution_count": 22,
   "metadata": {},
   "outputs": [],
   "source": [
    "temp.fillna('na').to_excel('./total.xlsx')"
   ]
  },
  {
   "cell_type": "code",
   "execution_count": 59,
   "metadata": {},
   "outputs": [],
   "source": [
    "from sqlalchemy import create_engine"
   ]
  },
  {
   "cell_type": "code",
   "execution_count": 60,
   "metadata": {},
   "outputs": [],
   "source": [
    "engine = create_engine('sqlite:///shakurbasti.db')"
   ]
  },
  {
   "cell_type": "code",
   "execution_count": 67,
   "metadata": {},
   "outputs": [],
   "source": [
    "temp.fillna('').to_sql('voters', engine, index=None, if_exists='replace')"
   ]
  },
  {
   "cell_type": "code",
   "execution_count": 68,
   "metadata": {},
   "outputs": [
    {
     "data": {
      "text/plain": [
       "['voters', 'voters2']"
      ]
     },
     "execution_count": 68,
     "metadata": {},
     "output_type": "execute_result"
    }
   ],
   "source": [
    "engine.table_names()"
   ]
  },
  {
   "cell_type": "code",
   "execution_count": 69,
   "metadata": {},
   "outputs": [],
   "source": [
    "df = pd.read_sql('select * from voters', engine)"
   ]
  },
  {
   "cell_type": "code",
   "execution_count": 74,
   "metadata": {},
   "outputs": [],
   "source": [
    "df['Relative'] = df['Relative'].apply(lambda x: re.sub(\"\\'s\", '', x.split('Name')[0]).upper())"
   ]
  },
  {
   "cell_type": "code",
   "execution_count": 75,
   "metadata": {},
   "outputs": [
    {
     "data": {
      "text/html": [
       "<div>\n",
       "<style scoped>\n",
       "    .dataframe tbody tr th:only-of-type {\n",
       "        vertical-align: middle;\n",
       "    }\n",
       "\n",
       "    .dataframe tbody tr th {\n",
       "        vertical-align: top;\n",
       "    }\n",
       "\n",
       "    .dataframe thead th {\n",
       "        text-align: right;\n",
       "    }\n",
       "</style>\n",
       "<table border=\"1\" class=\"dataframe\">\n",
       "  <thead>\n",
       "    <tr style=\"text-align: right;\">\n",
       "      <th></th>\n",
       "      <th>Name</th>\n",
       "      <th>Age</th>\n",
       "      <th>Sex</th>\n",
       "      <th>Section</th>\n",
       "      <th>Raw String</th>\n",
       "      <th>Sheet</th>\n",
       "      <th>Relative</th>\n",
       "      <th>Relative Name</th>\n",
       "      <th>Voter Id</th>\n",
       "    </tr>\n",
       "  </thead>\n",
       "  <tbody>\n",
       "    <tr>\n",
       "      <th>0</th>\n",
       "      <td>DEEPAK</td>\n",
       "      <td>45</td>\n",
       "      <td>MALE</td>\n",
       "      <td>1-HARI SINGH PARK,NEW MULTAN NAGAR\\n\\n \\n\\n \\...</td>\n",
       "      <td>Name: DEEPAK\\n\\nFather's Name: KEWAL KRISHAN\\n...</td>\n",
       "      <td>./data/111/page_21.png.json</td>\n",
       "      <td>FATHER</td>\n",
       "      <td>KEWAL KRISHAN</td>\n",
       "      <td></td>\n",
       "    </tr>\n",
       "    <tr>\n",
       "      <th>1</th>\n",
       "      <td>REENA</td>\n",
       "      <td>40</td>\n",
       "      <td>FEMALE</td>\n",
       "      <td>1-HARI SINGH PARK,NEW MULTAN NAGAR\\n\\n \\n\\n \\...</td>\n",
       "      <td>Name: REENA\\n\\nHusband's Name : DEEPAK\\nHouse ...</td>\n",
       "      <td>./data/111/page_21.png.json</td>\n",
       "      <td>HUSBAND</td>\n",
       "      <td>DEEPAK</td>\n",
       "      <td></td>\n",
       "    </tr>\n",
       "    <tr>\n",
       "      <th>2</th>\n",
       "      <td>SURJEET SINGH</td>\n",
       "      <td>76</td>\n",
       "      <td>MALE</td>\n",
       "      <td>1-HARI SINGH PARK,NEW MULTAN NAGAR\\n\\n \\n\\n \\...</td>\n",
       "      <td>Name: SURJEET SINGH\\n\\nFather's Name : GURCHAR...</td>\n",
       "      <td>./data/111/page_21.png.json</td>\n",
       "      <td>FATHER</td>\n",
       "      <td>GURCHARAN SINGH</td>\n",
       "      <td></td>\n",
       "    </tr>\n",
       "    <tr>\n",
       "      <th>3</th>\n",
       "      <td>SURENDER KAUR</td>\n",
       "      <td>74</td>\n",
       "      <td>FEMALE</td>\n",
       "      <td>1-HARI SINGH PARK,NEW MULTAN NAGAR\\n\\n \\n\\n \\...</td>\n",
       "      <td>| el\\n\\nName : SURENDER KAUR\\nHusband's Name: ...</td>\n",
       "      <td>./data/111/page_21.png.json</td>\n",
       "      <td>HUSBAND</td>\n",
       "      <td>SURJEET SINGH</td>\n",
       "      <td></td>\n",
       "    </tr>\n",
       "    <tr>\n",
       "      <th>4</th>\n",
       "      <td>SURESH CHANDER</td>\n",
       "      <td>68</td>\n",
       "      <td>MALE</td>\n",
       "      <td>1-HARI SINGH PARK,NEW MULTAN NAGAR\\n\\n \\n\\n \\...</td>\n",
       "      <td>| El\\n\\nName : SURESH CHANDER\\nFather's Name :...</td>\n",
       "      <td>./data/111/page_21.png.json</td>\n",
       "      <td>FATHER</td>\n",
       "      <td>TOTARAM</td>\n",
       "      <td>E</td>\n",
       "    </tr>\n",
       "  </tbody>\n",
       "</table>\n",
       "</div>"
      ],
      "text/plain": [
       "             Name Age     Sex  \\\n",
       "0          DEEPAK  45    MALE   \n",
       "1           REENA  40  FEMALE   \n",
       "2   SURJEET SINGH  76    MALE   \n",
       "3   SURENDER KAUR  74  FEMALE   \n",
       "4  SURESH CHANDER  68    MALE   \n",
       "\n",
       "                                             Section  \\\n",
       "0   1-HARI SINGH PARK,NEW MULTAN NAGAR\\n\\n \\n\\n \\...   \n",
       "1   1-HARI SINGH PARK,NEW MULTAN NAGAR\\n\\n \\n\\n \\...   \n",
       "2   1-HARI SINGH PARK,NEW MULTAN NAGAR\\n\\n \\n\\n \\...   \n",
       "3   1-HARI SINGH PARK,NEW MULTAN NAGAR\\n\\n \\n\\n \\...   \n",
       "4   1-HARI SINGH PARK,NEW MULTAN NAGAR\\n\\n \\n\\n \\...   \n",
       "\n",
       "                                          Raw String  \\\n",
       "0  Name: DEEPAK\\n\\nFather's Name: KEWAL KRISHAN\\n...   \n",
       "1  Name: REENA\\n\\nHusband's Name : DEEPAK\\nHouse ...   \n",
       "2  Name: SURJEET SINGH\\n\\nFather's Name : GURCHAR...   \n",
       "3  | el\\n\\nName : SURENDER KAUR\\nHusband's Name: ...   \n",
       "4  | El\\n\\nName : SURESH CHANDER\\nFather's Name :...   \n",
       "\n",
       "                         Sheet  Relative     Relative Name Voter Id  \n",
       "0  ./data/111/page_21.png.json   FATHER      KEWAL KRISHAN           \n",
       "1  ./data/111/page_21.png.json  HUSBAND             DEEPAK           \n",
       "2  ./data/111/page_21.png.json   FATHER    GURCHARAN SINGH           \n",
       "3  ./data/111/page_21.png.json  HUSBAND      SURJEET SINGH           \n",
       "4  ./data/111/page_21.png.json   FATHER            TOTARAM        E  "
      ]
     },
     "execution_count": 75,
     "metadata": {},
     "output_type": "execute_result"
    }
   ],
   "source": [
    "df.Sex.values"
   ]
  },
  {
   "cell_type": "code",
   "execution_count": 48,
   "metadata": {},
   "outputs": [],
   "source": [
    "df.fillna('na').to_sql('voters2', engine, index=None)"
   ]
  },
  {
   "cell_type": "code",
   "execution_count": 49,
   "metadata": {},
   "outputs": [
    {
     "data": {
      "text/plain": [
       "['voters', 'voters2']"
      ]
     },
     "execution_count": 49,
     "metadata": {},
     "output_type": "execute_result"
    }
   ],
   "source": [
    "engine.table_names()"
   ]
  },
  {
   "cell_type": "code",
   "execution_count": 50,
   "metadata": {},
   "outputs": [
    {
     "name": "stdout",
     "output_type": "stream",
     "text": [
      "\u001b[0m\u001b[01;34mapp\u001b[0m/   extract_pipe.ipynb  shakurbasti.db               total.xlsx\r\n",
      "\u001b[01;34mdata\u001b[0m/  extract_pipe.py     total_slightly_cleaner.xlsx  Untitled.ipynb\r\n"
     ]
    }
   ],
   "source": [
    "ls"
   ]
  },
  {
   "cell_type": "code",
   "execution_count": 51,
   "metadata": {},
   "outputs": [],
   "source": [
    "!cp shakurbasti.db ../vsa/assets/data/"
   ]
  },
  {
   "cell_type": "code",
   "execution_count": null,
   "metadata": {},
   "outputs": [],
   "source": []
  }
 ],
 "metadata": {
  "file_extension": ".py",
  "kernelspec": {
   "display_name": "Python 3",
   "language": "python",
   "name": "python3"
  },
  "language_info": {
   "codemirror_mode": {
    "name": "ipython",
    "version": 3
   },
   "file_extension": ".py",
   "mimetype": "text/x-python",
   "name": "python",
   "nbconvert_exporter": "python",
   "pygments_lexer": "ipython3",
   "version": "3.7.5"
  },
  "mimetype": "text/x-python",
  "name": "python",
  "npconvert_exporter": "python",
  "pygments_lexer": "ipython3",
  "version": 3
 },
 "nbformat": 4,
 "nbformat_minor": 4
}
